{
 "cells": [
  {
   "cell_type": "code",
   "execution_count": 15,
   "metadata": {},
   "outputs": [],
   "source": [
    "import os.path\n",
    "from pathlib import Path\n",
    "from glob import glob\n",
    "\n",
    "import pandas as pd\n",
    "import numpy as np\n",
    "import matplotlib.pyplot as plt\n",
    "import seaborn as sns"
   ]
  },
  {
   "cell_type": "markdown",
   "metadata": {},
   "source": [
    "## K-MHaS 데이터 전처리"
   ]
  },
  {
   "cell_type": "code",
   "execution_count": 3,
   "metadata": {},
   "outputs": [],
   "source": [
    "hate_data_root = '/Users/limkaram/PersonalSpace/frown-sentence-classifier/data/origin/K-MHaS-main/data'"
   ]
  },
  {
   "cell_type": "code",
   "execution_count": 8,
   "metadata": {},
   "outputs": [
    {
     "data": {
      "text/plain": [
       "['/Users/limkaram/PersonalSpace/frown-sentence-classifier/data/origin/K-MHaS-main/data/kmhas_valid.txt',\n",
       " '/Users/limkaram/PersonalSpace/frown-sentence-classifier/data/origin/K-MHaS-main/data/kmhas_test.txt',\n",
       " '/Users/limkaram/PersonalSpace/frown-sentence-classifier/data/origin/K-MHaS-main/data/kmhas_train.txt']"
      ]
     },
     "execution_count": 8,
     "metadata": {},
     "output_type": "execute_result"
    }
   ],
   "source": [
    "data_path_list = glob(str(Path(hate_data_root) / '*.txt'))\n",
    "data_path_list"
   ]
  },
  {
   "cell_type": "code",
   "execution_count": 40,
   "metadata": {},
   "outputs": [
    {
     "name": "stdout",
     "output_type": "stream",
     "text": [
      "kmhas_valid.txt: 1014 / 8776(11.6%)\n",
      "kmhas_test.txt: 2754 / 21939(12.6%)\n",
      "kmhas_train.txt: 9839 / 78977(12.5%)\n"
     ]
    }
   ],
   "source": [
    "for path in data_path_list:\n",
    "    temp = pd.read_table(path)\n",
    "    multi_label_num = temp.label.str.contains(',').sum()\n",
    "    total = len(temp)\n",
    "    print(f'{os.path.basename(path)}: {multi_label_num} / {total}({multi_label_num / total * 100:.1f}%)')"
   ]
  },
  {
   "cell_type": "code",
   "execution_count": 61,
   "metadata": {},
   "outputs": [
    {
     "name": "stdout",
     "output_type": "stream",
     "text": [
      "['8' '3' '1' '7' '6' '0' '2' '4' '5']\n",
      "7762\n",
      "\n",
      "['8' '2' '0' '1' '4' '7' '3' '5' '6']\n",
      "19185\n",
      "\n",
      "['8' '2' '4' '3' '0' '5' '7' '1' '6']\n",
      "69138\n",
      "\n"
     ]
    }
   ],
   "source": [
    "merged_df = pd.DataFrame()\n",
    "\n",
    "for path in data_path_list:\n",
    "    temp = pd.read_table(path)\n",
    "    temp = temp.drop(temp[temp.label.str.contains(',')].index)\n",
    "    merged_df = pd.concat([merged_df, temp])\n",
    "    print(temp.label.unique())\n",
    "    print(len(temp))\n",
    "    print()\n",
    "    \n",
    "merged_df = merged_df.reset_index(drop=True)"
   ]
  },
  {
   "cell_type": "code",
   "execution_count": 55,
   "metadata": {},
   "outputs": [
    {
     "data": {
      "text/plain": [
       "array(['8', '3', '1', '7', '6', '0', '2', '4', '5'], dtype=object)"
      ]
     },
     "execution_count": 55,
     "metadata": {},
     "output_type": "execute_result"
    }
   ],
   "source": [
    "merged_df.label.unique()"
   ]
  },
  {
   "cell_type": "code",
   "execution_count": 67,
   "metadata": {},
   "outputs": [],
   "source": [
    "merged_df.to_csv('/Users/limkaram/PersonalSpace/frown-sentence-classifier/data/preprocess/mergeTrainValTest-removeMultiLabel-kmhas.csv', index=False)"
   ]
  },
  {
   "cell_type": "code",
   "execution_count": 68,
   "metadata": {},
   "outputs": [
    {
     "data": {
      "text/html": [
       "<div>\n",
       "<style scoped>\n",
       "    .dataframe tbody tr th:only-of-type {\n",
       "        vertical-align: middle;\n",
       "    }\n",
       "\n",
       "    .dataframe tbody tr th {\n",
       "        vertical-align: top;\n",
       "    }\n",
       "\n",
       "    .dataframe thead th {\n",
       "        text-align: right;\n",
       "    }\n",
       "</style>\n",
       "<table border=\"1\" class=\"dataframe\">\n",
       "  <thead>\n",
       "    <tr style=\"text-align: right;\">\n",
       "      <th></th>\n",
       "      <th>document</th>\n",
       "      <th>label</th>\n",
       "    </tr>\n",
       "  </thead>\n",
       "  <tbody>\n",
       "    <tr>\n",
       "      <th>0</th>\n",
       "      <td>서로만이 이렇게 있을때 보기 좋다♥</td>\n",
       "      <td>8</td>\n",
       "    </tr>\n",
       "    <tr>\n",
       "      <th>1</th>\n",
       "      <td>승호 키스신에 누나는 웁니다..흑흑..너무 찐하쟈너..무방비상태였는데 충격먹음..손...</td>\n",
       "      <td>8</td>\n",
       "    </tr>\n",
       "    <tr>\n",
       "      <th>2</th>\n",
       "      <td>전광훈이 교주 됐네 ㅋㅋㅋ 애라이 새꺄 니가 목사면 박쥐가 독수리다 임마</td>\n",
       "      <td>3</td>\n",
       "    </tr>\n",
       "    <tr>\n",
       "      <th>3</th>\n",
       "      <td>인덕션 꾹 누를때 기절하는줄ㅋㅋㅋ 아재개그통한다</td>\n",
       "      <td>8</td>\n",
       "    </tr>\n",
       "    <tr>\n",
       "      <th>4</th>\n",
       "      <td>못생긴대로 논다더니 ㅋㅋㅋㅋ</td>\n",
       "      <td>1</td>\n",
       "    </tr>\n",
       "  </tbody>\n",
       "</table>\n",
       "</div>"
      ],
      "text/plain": [
       "                                            document  label\n",
       "0                                서로만이 이렇게 있을때 보기 좋다♥      8\n",
       "1  승호 키스신에 누나는 웁니다..흑흑..너무 찐하쟈너..무방비상태였는데 충격먹음..손...      8\n",
       "2           전광훈이 교주 됐네 ㅋㅋㅋ 애라이 새꺄 니가 목사면 박쥐가 독수리다 임마      3\n",
       "3                         인덕션 꾹 누를때 기절하는줄ㅋㅋㅋ 아재개그통한다      8\n",
       "4                                    못생긴대로 논다더니 ㅋㅋㅋㅋ      1"
      ]
     },
     "execution_count": 68,
     "metadata": {},
     "output_type": "execute_result"
    }
   ],
   "source": [
    "pd.read_csv('/Users/limkaram/PersonalSpace/frown-sentence-classifier/data/preprocess/mergeTrainValTest-removeMultiLabel-kmhas.csv').head()"
   ]
  },
  {
   "cell_type": "code",
   "execution_count": null,
   "metadata": {},
   "outputs": [],
   "source": []
  },
  {
   "cell_type": "markdown",
   "metadata": {},
   "source": [
    "## UnSmile 데이터 전처리"
   ]
  },
  {
   "cell_type": "code",
   "execution_count": 127,
   "metadata": {},
   "outputs": [],
   "source": [
    "unsmile_data_root = '/Users/limkaram/PersonalSpace/frown-sentence-classifier/data/origin/korean_unsmile_dataset-main'"
   ]
  },
  {
   "cell_type": "code",
   "execution_count": 129,
   "metadata": {},
   "outputs": [
    {
     "name": "stdout",
     "output_type": "stream",
     "text": [
      "/Users/limkaram/PersonalSpace/frown-sentence-classifier/data/origin/korean_unsmile_dataset-main/unsmile_valid_v1.0.tsv\n",
      "/Users/limkaram/PersonalSpace/frown-sentence-classifier/data/origin/korean_unsmile_dataset-main/unsmile_train_v1.0.tsv\n"
     ]
    }
   ],
   "source": [
    "merged_df = pd.DataFrame()\n",
    "\n",
    "for path in glob(os.path.join(unsmile_data_root, '*.tsv')):\n",
    "    print(path)\n",
    "    temp = pd.read_csv(path, delimiter='\\t')\n",
    "    merged_df = pd.concat([merged_df, temp])\n",
    "    \n",
    "merged_df = merged_df.reset_index(drop=True)\n",
    "merged_df['label_num'] = merged_df.iloc[:, 1:].sum(axis=1)\n",
    "merged_df = merged_df[merged_df['label_num'] == 1]\n",
    "merged_df = merged_df.reset_index(drop=True)"
   ]
  },
  {
   "cell_type": "code",
   "execution_count": 130,
   "metadata": {},
   "outputs": [
    {
     "data": {
      "text/plain": [
       "0"
      ]
     },
     "execution_count": 130,
     "metadata": {},
     "output_type": "execute_result"
    }
   ],
   "source": [
    "(merged_df.label_num > 1).sum()"
   ]
  },
  {
   "cell_type": "code",
   "execution_count": 131,
   "metadata": {},
   "outputs": [
    {
     "data": {
      "text/plain": [
       "Index(['문장', '여성/가족', '남성', '성소수자', '인종/국적', '연령', '지역', '종교', '기타 혐오',\n",
       "       '악플/욕설', 'clean', '개인지칭', 'label_num'],\n",
       "      dtype='object')"
      ]
     },
     "execution_count": 131,
     "metadata": {},
     "output_type": "execute_result"
    }
   ],
   "source": [
    "merged_df.columns"
   ]
  },
  {
   "cell_type": "code",
   "execution_count": 132,
   "metadata": {},
   "outputs": [],
   "source": [
    "for idx, row in merged_df.iterrows():\n",
    "    if any((row['여성/가족'], row['남성'], row['성소수자'])):\n",
    "        merged_df.loc[idx, 'label'] = 5\n",
    "        continue\n",
    "    \n",
    "    if any((row['인종/국적'], row['지역'])):\n",
    "        merged_df.loc[idx, 'label'] = 0\n",
    "        continue\n",
    "    \n",
    "    if row['연령']:\n",
    "        merged_df.loc[idx, 'label'] = 4\n",
    "        continue\n",
    "    \n",
    "    if row['종교']:\n",
    "        merged_df.loc[idx, 'label'] = 7\n",
    "        continue\n",
    "    \n",
    "    if any((row['기타 혐오'], row['악플/욕설'])):\n",
    "        merged_df.loc[idx, 'label'] = 3\n",
    "        continue\n",
    "    \n",
    "    merged_df.loc[idx, 'label'] = 10"
   ]
  },
  {
   "cell_type": "code",
   "execution_count": 133,
   "metadata": {},
   "outputs": [],
   "source": [
    "merged_df = merged_df[['문장', 'label']]"
   ]
  },
  {
   "cell_type": "code",
   "execution_count": 134,
   "metadata": {},
   "outputs": [],
   "source": [
    "merged_df['label'] = merged_df.label.astype('int')"
   ]
  },
  {
   "cell_type": "code",
   "execution_count": 135,
   "metadata": {},
   "outputs": [
    {
     "name": "stdout",
     "output_type": "stream",
     "text": [
      "<class 'pandas.core.frame.DataFrame'>\n",
      "RangeIndex: 17154 entries, 0 to 17153\n",
      "Data columns (total 2 columns):\n",
      " #   Column  Non-Null Count  Dtype \n",
      "---  ------  --------------  ----- \n",
      " 0   문장      17154 non-null  object\n",
      " 1   label   17154 non-null  int64 \n",
      "dtypes: int64(1), object(1)\n",
      "memory usage: 268.2+ KB\n"
     ]
    }
   ],
   "source": [
    "merged_df.info()"
   ]
  },
  {
   "cell_type": "code",
   "execution_count": 140,
   "metadata": {},
   "outputs": [
    {
     "data": {
      "text/html": [
       "<div>\n",
       "<style scoped>\n",
       "    .dataframe tbody tr th:only-of-type {\n",
       "        vertical-align: middle;\n",
       "    }\n",
       "\n",
       "    .dataframe tbody tr th {\n",
       "        vertical-align: top;\n",
       "    }\n",
       "\n",
       "    .dataframe thead th {\n",
       "        text-align: right;\n",
       "    }\n",
       "</style>\n",
       "<table border=\"1\" class=\"dataframe\">\n",
       "  <thead>\n",
       "    <tr style=\"text-align: right;\">\n",
       "      <th></th>\n",
       "      <th>문장</th>\n",
       "      <th>label</th>\n",
       "    </tr>\n",
       "  </thead>\n",
       "  <tbody>\n",
       "    <tr>\n",
       "      <th>0</th>\n",
       "      <td>ㅇㄱㄹㅇ 진짜 죽어도 상관없다는 마인드로 싸웠더니 지금 서열 상타취노 식칼들고 니가...</td>\n",
       "      <td>5</td>\n",
       "    </tr>\n",
       "    <tr>\n",
       "      <th>1</th>\n",
       "      <td>여자들은 취미가 애낳는건가.. 취미를 좀 가져라</td>\n",
       "      <td>5</td>\n",
       "    </tr>\n",
       "    <tr>\n",
       "      <th>2</th>\n",
       "      <td>조팔ㅋㅋ 남한 길거리 돌아다니면 한국남자때문에 눈재기하는데 그걸 내 폰에 굳이 담아...</td>\n",
       "      <td>5</td>\n",
       "    </tr>\n",
       "    <tr>\n",
       "      <th>3</th>\n",
       "      <td>바지 내리다 한남들 와꾸 보고 올려뿟노</td>\n",
       "      <td>5</td>\n",
       "    </tr>\n",
       "    <tr>\n",
       "      <th>4</th>\n",
       "      <td>저새끼 슈스케나온새끼잖아 ㅋㅋㅋㅋㅋㅋㅋㅋㅋㅋㅋㅋㅋㅋㅋㅋㅋㅋㅋㅋㅋㅋㅋㅋㅋㅋㅋㅋㅋㅋㅋㅋ...</td>\n",
       "      <td>3</td>\n",
       "    </tr>\n",
       "  </tbody>\n",
       "</table>\n",
       "</div>"
      ],
      "text/plain": [
       "                                                  문장  label\n",
       "0  ㅇㄱㄹㅇ 진짜 죽어도 상관없다는 마인드로 싸웠더니 지금 서열 상타취노 식칼들고 니가...      5\n",
       "1                         여자들은 취미가 애낳는건가.. 취미를 좀 가져라      5\n",
       "2  조팔ㅋㅋ 남한 길거리 돌아다니면 한국남자때문에 눈재기하는데 그걸 내 폰에 굳이 담아...      5\n",
       "3                              바지 내리다 한남들 와꾸 보고 올려뿟노      5\n",
       "4  저새끼 슈스케나온새끼잖아 ㅋㅋㅋㅋㅋㅋㅋㅋㅋㅋㅋㅋㅋㅋㅋㅋㅋㅋㅋㅋㅋㅋㅋㅋㅋㅋㅋㅋㅋㅋㅋㅋ...      3"
      ]
     },
     "execution_count": 140,
     "metadata": {},
     "output_type": "execute_result"
    }
   ],
   "source": [
    "merged_df.head()"
   ]
  },
  {
   "cell_type": "code",
   "execution_count": 142,
   "metadata": {},
   "outputs": [],
   "source": [
    "merged_df = merged_df.rename(columns={'문장': 'document'})"
   ]
  },
  {
   "cell_type": "code",
   "execution_count": 143,
   "metadata": {},
   "outputs": [
    {
     "data": {
      "text/html": [
       "<div>\n",
       "<style scoped>\n",
       "    .dataframe tbody tr th:only-of-type {\n",
       "        vertical-align: middle;\n",
       "    }\n",
       "\n",
       "    .dataframe tbody tr th {\n",
       "        vertical-align: top;\n",
       "    }\n",
       "\n",
       "    .dataframe thead th {\n",
       "        text-align: right;\n",
       "    }\n",
       "</style>\n",
       "<table border=\"1\" class=\"dataframe\">\n",
       "  <thead>\n",
       "    <tr style=\"text-align: right;\">\n",
       "      <th></th>\n",
       "      <th>document</th>\n",
       "      <th>label</th>\n",
       "    </tr>\n",
       "  </thead>\n",
       "  <tbody>\n",
       "    <tr>\n",
       "      <th>0</th>\n",
       "      <td>ㅇㄱㄹㅇ 진짜 죽어도 상관없다는 마인드로 싸웠더니 지금 서열 상타취노 식칼들고 니가...</td>\n",
       "      <td>5</td>\n",
       "    </tr>\n",
       "    <tr>\n",
       "      <th>1</th>\n",
       "      <td>여자들은 취미가 애낳는건가.. 취미를 좀 가져라</td>\n",
       "      <td>5</td>\n",
       "    </tr>\n",
       "    <tr>\n",
       "      <th>2</th>\n",
       "      <td>조팔ㅋㅋ 남한 길거리 돌아다니면 한국남자때문에 눈재기하는데 그걸 내 폰에 굳이 담아...</td>\n",
       "      <td>5</td>\n",
       "    </tr>\n",
       "    <tr>\n",
       "      <th>3</th>\n",
       "      <td>바지 내리다 한남들 와꾸 보고 올려뿟노</td>\n",
       "      <td>5</td>\n",
       "    </tr>\n",
       "    <tr>\n",
       "      <th>4</th>\n",
       "      <td>저새끼 슈스케나온새끼잖아 ㅋㅋㅋㅋㅋㅋㅋㅋㅋㅋㅋㅋㅋㅋㅋㅋㅋㅋㅋㅋㅋㅋㅋㅋㅋㅋㅋㅋㅋㅋㅋㅋ...</td>\n",
       "      <td>3</td>\n",
       "    </tr>\n",
       "  </tbody>\n",
       "</table>\n",
       "</div>"
      ],
      "text/plain": [
       "                                            document  label\n",
       "0  ㅇㄱㄹㅇ 진짜 죽어도 상관없다는 마인드로 싸웠더니 지금 서열 상타취노 식칼들고 니가...      5\n",
       "1                         여자들은 취미가 애낳는건가.. 취미를 좀 가져라      5\n",
       "2  조팔ㅋㅋ 남한 길거리 돌아다니면 한국남자때문에 눈재기하는데 그걸 내 폰에 굳이 담아...      5\n",
       "3                              바지 내리다 한남들 와꾸 보고 올려뿟노      5\n",
       "4  저새끼 슈스케나온새끼잖아 ㅋㅋㅋㅋㅋㅋㅋㅋㅋㅋㅋㅋㅋㅋㅋㅋㅋㅋㅋㅋㅋㅋㅋㅋㅋㅋㅋㅋㅋㅋㅋㅋ...      3"
      ]
     },
     "execution_count": 143,
     "metadata": {},
     "output_type": "execute_result"
    }
   ],
   "source": [
    "merged_df.head()"
   ]
  },
  {
   "cell_type": "code",
   "execution_count": 144,
   "metadata": {},
   "outputs": [
    {
     "name": "stdout",
     "output_type": "stream",
     "text": [
      "<class 'pandas.core.frame.DataFrame'>\n",
      "RangeIndex: 17154 entries, 0 to 17153\n",
      "Data columns (total 2 columns):\n",
      " #   Column    Non-Null Count  Dtype \n",
      "---  ------    --------------  ----- \n",
      " 0   document  17154 non-null  object\n",
      " 1   label     17154 non-null  int64 \n",
      "dtypes: int64(1), object(1)\n",
      "memory usage: 268.2+ KB\n"
     ]
    }
   ],
   "source": [
    "merged_df.info()"
   ]
  },
  {
   "cell_type": "code",
   "execution_count": 145,
   "metadata": {},
   "outputs": [],
   "source": [
    "merged_df.to_csv('/Users/limkaram/PersonalSpace/frown-sentence-classifier/data/preprocess/mergeTrainVal-removeMultiLabel-unsmile.csv', index=False)"
   ]
  },
  {
   "cell_type": "code",
   "execution_count": 217,
   "metadata": {},
   "outputs": [],
   "source": [
    "df = pd.read_csv('/Users/limkaram/PersonalSpace/frown-sentence-classifier/data/preprocess/mergeTrainVal-removeMultiLabel-unsmile.csv')"
   ]
  },
  {
   "cell_type": "code",
   "execution_count": 218,
   "metadata": {},
   "outputs": [
    {
     "data": {
      "text/html": [
       "<div>\n",
       "<style scoped>\n",
       "    .dataframe tbody tr th:only-of-type {\n",
       "        vertical-align: middle;\n",
       "    }\n",
       "\n",
       "    .dataframe tbody tr th {\n",
       "        vertical-align: top;\n",
       "    }\n",
       "\n",
       "    .dataframe thead th {\n",
       "        text-align: right;\n",
       "    }\n",
       "</style>\n",
       "<table border=\"1\" class=\"dataframe\">\n",
       "  <thead>\n",
       "    <tr style=\"text-align: right;\">\n",
       "      <th></th>\n",
       "      <th>document</th>\n",
       "      <th>label</th>\n",
       "    </tr>\n",
       "  </thead>\n",
       "  <tbody>\n",
       "    <tr>\n",
       "      <th>0</th>\n",
       "      <td>ㅇㄱㄹㅇ 진짜 죽어도 상관없다는 마인드로 싸웠더니 지금 서열 상타취노 식칼들고 니가...</td>\n",
       "      <td>5</td>\n",
       "    </tr>\n",
       "    <tr>\n",
       "      <th>1</th>\n",
       "      <td>여자들은 취미가 애낳는건가.. 취미를 좀 가져라</td>\n",
       "      <td>5</td>\n",
       "    </tr>\n",
       "    <tr>\n",
       "      <th>2</th>\n",
       "      <td>조팔ㅋㅋ 남한 길거리 돌아다니면 한국남자때문에 눈재기하는데 그걸 내 폰에 굳이 담아...</td>\n",
       "      <td>5</td>\n",
       "    </tr>\n",
       "    <tr>\n",
       "      <th>3</th>\n",
       "      <td>바지 내리다 한남들 와꾸 보고 올려뿟노</td>\n",
       "      <td>5</td>\n",
       "    </tr>\n",
       "    <tr>\n",
       "      <th>4</th>\n",
       "      <td>저새끼 슈스케나온새끼잖아 ㅋㅋㅋㅋㅋㅋㅋㅋㅋㅋㅋㅋㅋㅋㅋㅋㅋㅋㅋㅋㅋㅋㅋㅋㅋㅋㅋㅋㅋㅋㅋㅋ...</td>\n",
       "      <td>3</td>\n",
       "    </tr>\n",
       "  </tbody>\n",
       "</table>\n",
       "</div>"
      ],
      "text/plain": [
       "                                            document  label\n",
       "0  ㅇㄱㄹㅇ 진짜 죽어도 상관없다는 마인드로 싸웠더니 지금 서열 상타취노 식칼들고 니가...      5\n",
       "1                         여자들은 취미가 애낳는건가.. 취미를 좀 가져라      5\n",
       "2  조팔ㅋㅋ 남한 길거리 돌아다니면 한국남자때문에 눈재기하는데 그걸 내 폰에 굳이 담아...      5\n",
       "3                              바지 내리다 한남들 와꾸 보고 올려뿟노      5\n",
       "4  저새끼 슈스케나온새끼잖아 ㅋㅋㅋㅋㅋㅋㅋㅋㅋㅋㅋㅋㅋㅋㅋㅋㅋㅋㅋㅋㅋㅋㅋㅋㅋㅋㅋㅋㅋㅋㅋㅋ...      3"
      ]
     },
     "execution_count": 218,
     "metadata": {},
     "output_type": "execute_result"
    }
   ],
   "source": [
    "df.head()"
   ]
  },
  {
   "cell_type": "code",
   "execution_count": 219,
   "metadata": {},
   "outputs": [
    {
     "data": {
      "text/plain": [
       "array([ 5,  3,  0, 10,  7,  4])"
      ]
     },
     "execution_count": 219,
     "metadata": {},
     "output_type": "execute_result"
    }
   ],
   "source": [
    "df.label.unique()"
   ]
  },
  {
   "cell_type": "code",
   "execution_count": 220,
   "metadata": {},
   "outputs": [
    {
     "data": {
      "text/plain": [
       "10    4674\n",
       "3     4248\n",
       "5     4121\n",
       "0     2517\n",
       "7     1056\n",
       "4      538\n",
       "Name: label, dtype: int64"
      ]
     },
     "execution_count": 220,
     "metadata": {},
     "output_type": "execute_result"
    }
   ],
   "source": [
    "df.label.value_counts()"
   ]
  },
  {
   "cell_type": "code",
   "execution_count": 221,
   "metadata": {},
   "outputs": [],
   "source": [
    "df = df[df.label < 10].reset_index(drop=True)"
   ]
  },
  {
   "cell_type": "code",
   "execution_count": 226,
   "metadata": {},
   "outputs": [],
   "source": [
    "df.to_csv('/Users/limkaram/PersonalSpace/frown-sentence-classifier/data/preprocess/mergeTrainVal-removeMultiLabel-unsmile.csv', index=False)"
   ]
  },
  {
   "cell_type": "markdown",
   "metadata": {},
   "source": [
    "## HateScore 데이터 전처리"
   ]
  },
  {
   "cell_type": "code",
   "execution_count": 196,
   "metadata": {},
   "outputs": [],
   "source": [
    "csv_path = '/Users/limkaram/PersonalSpace/frown-sentence-classifier/data/origin/HateScore.csv'"
   ]
  },
  {
   "cell_type": "code",
   "execution_count": 197,
   "metadata": {},
   "outputs": [
    {
     "data": {
      "text/html": [
       "<div>\n",
       "<style scoped>\n",
       "    .dataframe tbody tr th:only-of-type {\n",
       "        vertical-align: middle;\n",
       "    }\n",
       "\n",
       "    .dataframe tbody tr th {\n",
       "        vertical-align: top;\n",
       "    }\n",
       "\n",
       "    .dataframe thead th {\n",
       "        text-align: right;\n",
       "    }\n",
       "</style>\n",
       "<table border=\"1\" class=\"dataframe\">\n",
       "  <thead>\n",
       "    <tr style=\"text-align: right;\">\n",
       "      <th></th>\n",
       "      <th>comment</th>\n",
       "      <th>macrolabel</th>\n",
       "      <th>microlabel</th>\n",
       "      <th>source</th>\n",
       "    </tr>\n",
       "  </thead>\n",
       "  <tbody>\n",
       "    <tr>\n",
       "      <th>0</th>\n",
       "      <td>절라남도 벌레?</td>\n",
       "      <td>혐오발언</td>\n",
       "      <td>지역</td>\n",
       "      <td>온라인 댓글</td>\n",
       "    </tr>\n",
       "    <tr>\n",
       "      <th>1</th>\n",
       "      <td>부산에서 학식먹었는데 mt 동기mt 동아리mt 단한번도 해운대 안감 부산 현지인들이...</td>\n",
       "      <td>혐오발언</td>\n",
       "      <td>지역</td>\n",
       "      <td>온라인 댓글</td>\n",
       "    </tr>\n",
       "    <tr>\n",
       "      <th>2</th>\n",
       "      <td>쌍도 여혐끝판왕의성지</td>\n",
       "      <td>혐오발언</td>\n",
       "      <td>지역</td>\n",
       "      <td>온라인 댓글</td>\n",
       "    </tr>\n",
       "    <tr>\n",
       "      <th>3</th>\n",
       "      <td>제목보고 전라도 직감</td>\n",
       "      <td>혐오발언</td>\n",
       "      <td>지역</td>\n",
       "      <td>온라인 댓글</td>\n",
       "    </tr>\n",
       "    <tr>\n",
       "      <th>4</th>\n",
       "      <td>홍어지 병신아 ㅋㅋㅋ</td>\n",
       "      <td>혐오발언</td>\n",
       "      <td>지역</td>\n",
       "      <td>온라인 댓글</td>\n",
       "    </tr>\n",
       "  </tbody>\n",
       "</table>\n",
       "</div>"
      ],
      "text/plain": [
       "                                             comment macrolabel microlabel  \\\n",
       "0                                           절라남도 벌레?       혐오발언         지역   \n",
       "1  부산에서 학식먹었는데 mt 동기mt 동아리mt 단한번도 해운대 안감 부산 현지인들이...       혐오발언         지역   \n",
       "2                                        쌍도 여혐끝판왕의성지       혐오발언         지역   \n",
       "3                                        제목보고 전라도 직감       혐오발언         지역   \n",
       "4                                        홍어지 병신아 ㅋㅋㅋ       혐오발언         지역   \n",
       "\n",
       "   source  \n",
       "0  온라인 댓글  \n",
       "1  온라인 댓글  \n",
       "2  온라인 댓글  \n",
       "3  온라인 댓글  \n",
       "4  온라인 댓글  "
      ]
     },
     "execution_count": 197,
     "metadata": {},
     "output_type": "execute_result"
    }
   ],
   "source": [
    "df = pd.read_csv(csv_path, index_col=0)\n",
    "df.head()"
   ]
  },
  {
   "cell_type": "code",
   "execution_count": 198,
   "metadata": {},
   "outputs": [],
   "source": [
    "df = df[df['source'] == '온라인 댓글']  # 온라인 댓글 외 필터링"
   ]
  },
  {
   "cell_type": "code",
   "execution_count": 199,
   "metadata": {},
   "outputs": [],
   "source": [
    "df = df[~df.microlabel.str.contains(',')]  # 다중 라벨 제외"
   ]
  },
  {
   "cell_type": "code",
   "execution_count": 200,
   "metadata": {},
   "outputs": [],
   "source": [
    "df = df[~(df.microlabel == '단순 악플')]  # 단순 악플 제외"
   ]
  },
  {
   "cell_type": "code",
   "execution_count": 201,
   "metadata": {},
   "outputs": [
    {
     "data": {
      "text/plain": [
       "None     838\n",
       "지역       333\n",
       "성소수자     112\n",
       "여성/가족     72\n",
       "연령        40\n",
       "종교        34\n",
       "기타 혐오     33\n",
       "인종/국적     25\n",
       "남성        14\n",
       "Name: microlabel, dtype: int64"
      ]
     },
     "execution_count": 201,
     "metadata": {},
     "output_type": "execute_result"
    }
   ],
   "source": [
    "df.microlabel.value_counts()"
   ]
  },
  {
   "cell_type": "code",
   "execution_count": 202,
   "metadata": {},
   "outputs": [],
   "source": [
    "df = df.reset_index(drop=True)"
   ]
  },
  {
   "cell_type": "code",
   "execution_count": 203,
   "metadata": {},
   "outputs": [
    {
     "data": {
      "text/plain": [
       "RangeIndex(start=0, stop=1501, step=1)"
      ]
     },
     "execution_count": 203,
     "metadata": {},
     "output_type": "execute_result"
    }
   ],
   "source": [
    "df.index"
   ]
  },
  {
   "cell_type": "code",
   "execution_count": 204,
   "metadata": {},
   "outputs": [],
   "source": [
    "for idx, row in df.iterrows():\n",
    "    _, _, label, _ = row\n",
    "    \n",
    "    if label in ['여성/가족', '남성', '성소수자']:\n",
    "        df.loc[idx, 'label'] = 5\n",
    "    elif label in ['인종/국적', '지역']:\n",
    "        df.loc[idx, 'label'] = 0\n",
    "    elif label in ['연령']:\n",
    "        df.loc[idx, 'label'] = 4\n",
    "    elif label in ['종교']:\n",
    "        df.loc[idx, 'label'] = 7\n",
    "    elif label in ['기타 혐오']:\n",
    "        df.loc[idx, 'label'] = 3\n",
    "    else:\n",
    "        df.loc[idx, 'label'] = 10\n",
    "        "
   ]
  },
  {
   "cell_type": "code",
   "execution_count": 205,
   "metadata": {},
   "outputs": [],
   "source": [
    "df = df[df.label < 10]"
   ]
  },
  {
   "cell_type": "code",
   "execution_count": 206,
   "metadata": {},
   "outputs": [
    {
     "name": "stdout",
     "output_type": "stream",
     "text": [
      "<class 'pandas.core.frame.DataFrame'>\n",
      "Int64Index: 663 entries, 0 to 662\n",
      "Data columns (total 5 columns):\n",
      " #   Column      Non-Null Count  Dtype  \n",
      "---  ------      --------------  -----  \n",
      " 0   comment     663 non-null    object \n",
      " 1   macrolabel  663 non-null    object \n",
      " 2   microlabel  663 non-null    object \n",
      " 3   source      663 non-null    object \n",
      " 4   label       663 non-null    float64\n",
      "dtypes: float64(1), object(4)\n",
      "memory usage: 31.1+ KB\n"
     ]
    }
   ],
   "source": [
    "df.info()"
   ]
  },
  {
   "cell_type": "code",
   "execution_count": 209,
   "metadata": {},
   "outputs": [
    {
     "data": {
      "text/plain": [
       "array([0., 7., 4., 5., 3.])"
      ]
     },
     "execution_count": 209,
     "metadata": {},
     "output_type": "execute_result"
    }
   ],
   "source": [
    "df.label.unique()"
   ]
  },
  {
   "cell_type": "code",
   "execution_count": 210,
   "metadata": {},
   "outputs": [
    {
     "data": {
      "text/html": [
       "<div>\n",
       "<style scoped>\n",
       "    .dataframe tbody tr th:only-of-type {\n",
       "        vertical-align: middle;\n",
       "    }\n",
       "\n",
       "    .dataframe tbody tr th {\n",
       "        vertical-align: top;\n",
       "    }\n",
       "\n",
       "    .dataframe thead th {\n",
       "        text-align: right;\n",
       "    }\n",
       "</style>\n",
       "<table border=\"1\" class=\"dataframe\">\n",
       "  <thead>\n",
       "    <tr style=\"text-align: right;\">\n",
       "      <th></th>\n",
       "      <th>comment</th>\n",
       "      <th>macrolabel</th>\n",
       "      <th>microlabel</th>\n",
       "      <th>source</th>\n",
       "      <th>label</th>\n",
       "    </tr>\n",
       "  </thead>\n",
       "  <tbody>\n",
       "    <tr>\n",
       "      <th>0</th>\n",
       "      <td>절라남도 벌레?</td>\n",
       "      <td>혐오발언</td>\n",
       "      <td>지역</td>\n",
       "      <td>온라인 댓글</td>\n",
       "      <td>0.0</td>\n",
       "    </tr>\n",
       "    <tr>\n",
       "      <th>1</th>\n",
       "      <td>부산에서 학식먹었는데 mt 동기mt 동아리mt 단한번도 해운대 안감 부산 현지인들이...</td>\n",
       "      <td>혐오발언</td>\n",
       "      <td>지역</td>\n",
       "      <td>온라인 댓글</td>\n",
       "      <td>0.0</td>\n",
       "    </tr>\n",
       "    <tr>\n",
       "      <th>2</th>\n",
       "      <td>쌍도 여혐끝판왕의성지</td>\n",
       "      <td>혐오발언</td>\n",
       "      <td>지역</td>\n",
       "      <td>온라인 댓글</td>\n",
       "      <td>0.0</td>\n",
       "    </tr>\n",
       "    <tr>\n",
       "      <th>3</th>\n",
       "      <td>제목보고 전라도 직감</td>\n",
       "      <td>혐오발언</td>\n",
       "      <td>지역</td>\n",
       "      <td>온라인 댓글</td>\n",
       "      <td>0.0</td>\n",
       "    </tr>\n",
       "    <tr>\n",
       "      <th>4</th>\n",
       "      <td>홍어지 병신아 ㅋㅋㅋ</td>\n",
       "      <td>혐오발언</td>\n",
       "      <td>지역</td>\n",
       "      <td>온라인 댓글</td>\n",
       "      <td>0.0</td>\n",
       "    </tr>\n",
       "  </tbody>\n",
       "</table>\n",
       "</div>"
      ],
      "text/plain": [
       "                                             comment macrolabel microlabel  \\\n",
       "0                                           절라남도 벌레?       혐오발언         지역   \n",
       "1  부산에서 학식먹었는데 mt 동기mt 동아리mt 단한번도 해운대 안감 부산 현지인들이...       혐오발언         지역   \n",
       "2                                        쌍도 여혐끝판왕의성지       혐오발언         지역   \n",
       "3                                        제목보고 전라도 직감       혐오발언         지역   \n",
       "4                                        홍어지 병신아 ㅋㅋㅋ       혐오발언         지역   \n",
       "\n",
       "   source  label  \n",
       "0  온라인 댓글    0.0  \n",
       "1  온라인 댓글    0.0  \n",
       "2  온라인 댓글    0.0  \n",
       "3  온라인 댓글    0.0  \n",
       "4  온라인 댓글    0.0  "
      ]
     },
     "execution_count": 210,
     "metadata": {},
     "output_type": "execute_result"
    }
   ],
   "source": [
    "df.head()"
   ]
  },
  {
   "cell_type": "code",
   "execution_count": 211,
   "metadata": {},
   "outputs": [],
   "source": [
    "df['label'] = df.label.astype('int')"
   ]
  },
  {
   "cell_type": "code",
   "execution_count": 212,
   "metadata": {},
   "outputs": [
    {
     "name": "stdout",
     "output_type": "stream",
     "text": [
      "<class 'pandas.core.frame.DataFrame'>\n",
      "Int64Index: 663 entries, 0 to 662\n",
      "Data columns (total 5 columns):\n",
      " #   Column      Non-Null Count  Dtype \n",
      "---  ------      --------------  ----- \n",
      " 0   comment     663 non-null    object\n",
      " 1   macrolabel  663 non-null    object\n",
      " 2   microlabel  663 non-null    object\n",
      " 3   source      663 non-null    object\n",
      " 4   label       663 non-null    int64 \n",
      "dtypes: int64(1), object(4)\n",
      "memory usage: 31.1+ KB\n"
     ]
    }
   ],
   "source": [
    "df.info()"
   ]
  },
  {
   "cell_type": "code",
   "execution_count": 213,
   "metadata": {},
   "outputs": [
    {
     "data": {
      "text/html": [
       "<div>\n",
       "<style scoped>\n",
       "    .dataframe tbody tr th:only-of-type {\n",
       "        vertical-align: middle;\n",
       "    }\n",
       "\n",
       "    .dataframe tbody tr th {\n",
       "        vertical-align: top;\n",
       "    }\n",
       "\n",
       "    .dataframe thead th {\n",
       "        text-align: right;\n",
       "    }\n",
       "</style>\n",
       "<table border=\"1\" class=\"dataframe\">\n",
       "  <thead>\n",
       "    <tr style=\"text-align: right;\">\n",
       "      <th></th>\n",
       "      <th>comment</th>\n",
       "      <th>macrolabel</th>\n",
       "      <th>microlabel</th>\n",
       "      <th>source</th>\n",
       "      <th>label</th>\n",
       "    </tr>\n",
       "  </thead>\n",
       "  <tbody>\n",
       "    <tr>\n",
       "      <th>0</th>\n",
       "      <td>절라남도 벌레?</td>\n",
       "      <td>혐오발언</td>\n",
       "      <td>지역</td>\n",
       "      <td>온라인 댓글</td>\n",
       "      <td>0</td>\n",
       "    </tr>\n",
       "    <tr>\n",
       "      <th>1</th>\n",
       "      <td>부산에서 학식먹었는데 mt 동기mt 동아리mt 단한번도 해운대 안감 부산 현지인들이...</td>\n",
       "      <td>혐오발언</td>\n",
       "      <td>지역</td>\n",
       "      <td>온라인 댓글</td>\n",
       "      <td>0</td>\n",
       "    </tr>\n",
       "    <tr>\n",
       "      <th>2</th>\n",
       "      <td>쌍도 여혐끝판왕의성지</td>\n",
       "      <td>혐오발언</td>\n",
       "      <td>지역</td>\n",
       "      <td>온라인 댓글</td>\n",
       "      <td>0</td>\n",
       "    </tr>\n",
       "    <tr>\n",
       "      <th>3</th>\n",
       "      <td>제목보고 전라도 직감</td>\n",
       "      <td>혐오발언</td>\n",
       "      <td>지역</td>\n",
       "      <td>온라인 댓글</td>\n",
       "      <td>0</td>\n",
       "    </tr>\n",
       "    <tr>\n",
       "      <th>4</th>\n",
       "      <td>홍어지 병신아 ㅋㅋㅋ</td>\n",
       "      <td>혐오발언</td>\n",
       "      <td>지역</td>\n",
       "      <td>온라인 댓글</td>\n",
       "      <td>0</td>\n",
       "    </tr>\n",
       "  </tbody>\n",
       "</table>\n",
       "</div>"
      ],
      "text/plain": [
       "                                             comment macrolabel microlabel  \\\n",
       "0                                           절라남도 벌레?       혐오발언         지역   \n",
       "1  부산에서 학식먹었는데 mt 동기mt 동아리mt 단한번도 해운대 안감 부산 현지인들이...       혐오발언         지역   \n",
       "2                                        쌍도 여혐끝판왕의성지       혐오발언         지역   \n",
       "3                                        제목보고 전라도 직감       혐오발언         지역   \n",
       "4                                        홍어지 병신아 ㅋㅋㅋ       혐오발언         지역   \n",
       "\n",
       "   source  label  \n",
       "0  온라인 댓글      0  \n",
       "1  온라인 댓글      0  \n",
       "2  온라인 댓글      0  \n",
       "3  온라인 댓글      0  \n",
       "4  온라인 댓글      0  "
      ]
     },
     "execution_count": 213,
     "metadata": {},
     "output_type": "execute_result"
    }
   ],
   "source": [
    "df.head()"
   ]
  },
  {
   "cell_type": "code",
   "execution_count": null,
   "metadata": {},
   "outputs": [],
   "source": []
  },
  {
   "cell_type": "code",
   "execution_count": 216,
   "metadata": {},
   "outputs": [],
   "source": [
    "df.to_csv('/Users/limkaram/PersonalSpace/frown-sentence-classifier/data/preprocess/onlyOnlineComment-removeMultiLabel-hatescore.csv', index=False)"
   ]
  },
  {
   "cell_type": "code",
   "execution_count": 231,
   "metadata": {},
   "outputs": [],
   "source": [
    "df = pd.read_csv('/Users/limkaram/PersonalSpace/frown-sentence-classifier/data/preprocess/onlyOnlineComment-removeMultiLabel-hatescore.csv')"
   ]
  },
  {
   "cell_type": "code",
   "execution_count": 232,
   "metadata": {},
   "outputs": [
    {
     "data": {
      "text/html": [
       "<div>\n",
       "<style scoped>\n",
       "    .dataframe tbody tr th:only-of-type {\n",
       "        vertical-align: middle;\n",
       "    }\n",
       "\n",
       "    .dataframe tbody tr th {\n",
       "        vertical-align: top;\n",
       "    }\n",
       "\n",
       "    .dataframe thead th {\n",
       "        text-align: right;\n",
       "    }\n",
       "</style>\n",
       "<table border=\"1\" class=\"dataframe\">\n",
       "  <thead>\n",
       "    <tr style=\"text-align: right;\">\n",
       "      <th></th>\n",
       "      <th>comment</th>\n",
       "      <th>macrolabel</th>\n",
       "      <th>microlabel</th>\n",
       "      <th>source</th>\n",
       "      <th>label</th>\n",
       "    </tr>\n",
       "  </thead>\n",
       "  <tbody>\n",
       "    <tr>\n",
       "      <th>0</th>\n",
       "      <td>절라남도 벌레?</td>\n",
       "      <td>혐오발언</td>\n",
       "      <td>지역</td>\n",
       "      <td>온라인 댓글</td>\n",
       "      <td>0</td>\n",
       "    </tr>\n",
       "    <tr>\n",
       "      <th>1</th>\n",
       "      <td>부산에서 학식먹었는데 mt 동기mt 동아리mt 단한번도 해운대 안감 부산 현지인들이...</td>\n",
       "      <td>혐오발언</td>\n",
       "      <td>지역</td>\n",
       "      <td>온라인 댓글</td>\n",
       "      <td>0</td>\n",
       "    </tr>\n",
       "    <tr>\n",
       "      <th>2</th>\n",
       "      <td>쌍도 여혐끝판왕의성지</td>\n",
       "      <td>혐오발언</td>\n",
       "      <td>지역</td>\n",
       "      <td>온라인 댓글</td>\n",
       "      <td>0</td>\n",
       "    </tr>\n",
       "    <tr>\n",
       "      <th>3</th>\n",
       "      <td>제목보고 전라도 직감</td>\n",
       "      <td>혐오발언</td>\n",
       "      <td>지역</td>\n",
       "      <td>온라인 댓글</td>\n",
       "      <td>0</td>\n",
       "    </tr>\n",
       "    <tr>\n",
       "      <th>4</th>\n",
       "      <td>홍어지 병신아 ㅋㅋㅋ</td>\n",
       "      <td>혐오발언</td>\n",
       "      <td>지역</td>\n",
       "      <td>온라인 댓글</td>\n",
       "      <td>0</td>\n",
       "    </tr>\n",
       "  </tbody>\n",
       "</table>\n",
       "</div>"
      ],
      "text/plain": [
       "                                             comment macrolabel microlabel  \\\n",
       "0                                           절라남도 벌레?       혐오발언         지역   \n",
       "1  부산에서 학식먹었는데 mt 동기mt 동아리mt 단한번도 해운대 안감 부산 현지인들이...       혐오발언         지역   \n",
       "2                                        쌍도 여혐끝판왕의성지       혐오발언         지역   \n",
       "3                                        제목보고 전라도 직감       혐오발언         지역   \n",
       "4                                        홍어지 병신아 ㅋㅋㅋ       혐오발언         지역   \n",
       "\n",
       "   source  label  \n",
       "0  온라인 댓글      0  \n",
       "1  온라인 댓글      0  \n",
       "2  온라인 댓글      0  \n",
       "3  온라인 댓글      0  \n",
       "4  온라인 댓글      0  "
      ]
     },
     "execution_count": 232,
     "metadata": {},
     "output_type": "execute_result"
    }
   ],
   "source": [
    "df.head()"
   ]
  },
  {
   "cell_type": "code",
   "execution_count": 233,
   "metadata": {},
   "outputs": [
    {
     "name": "stdout",
     "output_type": "stream",
     "text": [
      "<class 'pandas.core.frame.DataFrame'>\n",
      "RangeIndex: 663 entries, 0 to 662\n",
      "Data columns (total 5 columns):\n",
      " #   Column      Non-Null Count  Dtype \n",
      "---  ------      --------------  ----- \n",
      " 0   comment     663 non-null    object\n",
      " 1   macrolabel  663 non-null    object\n",
      " 2   microlabel  663 non-null    object\n",
      " 3   source      663 non-null    object\n",
      " 4   label       663 non-null    int64 \n",
      "dtypes: int64(1), object(4)\n",
      "memory usage: 26.0+ KB\n"
     ]
    }
   ],
   "source": [
    "df.info()"
   ]
  },
  {
   "cell_type": "code",
   "execution_count": 234,
   "metadata": {},
   "outputs": [],
   "source": [
    "df = df[['comment', 'label']].rename(columns={'comment': 'document'})"
   ]
  },
  {
   "cell_type": "code",
   "execution_count": 236,
   "metadata": {},
   "outputs": [
    {
     "data": {
      "text/plain": [
       "RangeIndex(start=0, stop=663, step=1)"
      ]
     },
     "execution_count": 236,
     "metadata": {},
     "output_type": "execute_result"
    }
   ],
   "source": [
    "df.index"
   ]
  },
  {
   "cell_type": "code",
   "execution_count": 237,
   "metadata": {},
   "outputs": [],
   "source": [
    "df.to_csv('/Users/limkaram/PersonalSpace/frown-sentence-classifier/data/preprocess/onlyOnlineComment-removeMultiLabel-hatescore.csv', index=False)"
   ]
  },
  {
   "cell_type": "markdown",
   "metadata": {},
   "source": [
    "## 병합"
   ]
  },
  {
   "cell_type": "code",
   "execution_count": 238,
   "metadata": {},
   "outputs": [],
   "source": [
    "kmhas_dataset = '/Users/limkaram/PersonalSpace/frown-sentence-classifier/data/preprocess/mergeTrainValTest-removeMultiLabel-kmhas.csv'\n",
    "unsmile_dataset = '/Users/limkaram/PersonalSpace/frown-sentence-classifier/data/preprocess/mergeTrainVal-removeMultiLabel-unsmile.csv'\n",
    "hatescore_dataset = '/Users/limkaram/PersonalSpace/frown-sentence-classifier/data/preprocess/onlyOnlineComment-removeMultiLabel-hatescore.csv'"
   ]
  },
  {
   "cell_type": "code",
   "execution_count": 239,
   "metadata": {},
   "outputs": [],
   "source": [
    "df = pd.DataFrame()\n",
    "\n",
    "for path in [kmhas_dataset, unsmile_dataset, hatescore_dataset]:\n",
    "    df = pd.concat([df, pd.read_csv(path)])"
   ]
  },
  {
   "cell_type": "code",
   "execution_count": 240,
   "metadata": {},
   "outputs": [
    {
     "name": "stdout",
     "output_type": "stream",
     "text": [
      "<class 'pandas.core.frame.DataFrame'>\n",
      "Int64Index: 109228 entries, 0 to 662\n",
      "Data columns (total 2 columns):\n",
      " #   Column    Non-Null Count   Dtype \n",
      "---  ------    --------------   ----- \n",
      " 0   document  109228 non-null  object\n",
      " 1   label     109228 non-null  int64 \n",
      "dtypes: int64(1), object(1)\n",
      "memory usage: 2.5+ MB\n"
     ]
    }
   ],
   "source": [
    "df.info()"
   ]
  },
  {
   "cell_type": "code",
   "execution_count": 241,
   "metadata": {},
   "outputs": [
    {
     "data": {
      "text/html": [
       "<div>\n",
       "<style scoped>\n",
       "    .dataframe tbody tr th:only-of-type {\n",
       "        vertical-align: middle;\n",
       "    }\n",
       "\n",
       "    .dataframe tbody tr th {\n",
       "        vertical-align: top;\n",
       "    }\n",
       "\n",
       "    .dataframe thead th {\n",
       "        text-align: right;\n",
       "    }\n",
       "</style>\n",
       "<table border=\"1\" class=\"dataframe\">\n",
       "  <thead>\n",
       "    <tr style=\"text-align: right;\">\n",
       "      <th></th>\n",
       "      <th>document</th>\n",
       "      <th>label</th>\n",
       "    </tr>\n",
       "  </thead>\n",
       "  <tbody>\n",
       "    <tr>\n",
       "      <th>0</th>\n",
       "      <td>서로만이 이렇게 있을때 보기 좋다♥</td>\n",
       "      <td>8</td>\n",
       "    </tr>\n",
       "    <tr>\n",
       "      <th>1</th>\n",
       "      <td>승호 키스신에 누나는 웁니다..흑흑..너무 찐하쟈너..무방비상태였는데 충격먹음..손...</td>\n",
       "      <td>8</td>\n",
       "    </tr>\n",
       "    <tr>\n",
       "      <th>2</th>\n",
       "      <td>전광훈이 교주 됐네 ㅋㅋㅋ 애라이 새꺄 니가 목사면 박쥐가 독수리다 임마</td>\n",
       "      <td>3</td>\n",
       "    </tr>\n",
       "    <tr>\n",
       "      <th>3</th>\n",
       "      <td>인덕션 꾹 누를때 기절하는줄ㅋㅋㅋ 아재개그통한다</td>\n",
       "      <td>8</td>\n",
       "    </tr>\n",
       "    <tr>\n",
       "      <th>4</th>\n",
       "      <td>못생긴대로 논다더니 ㅋㅋㅋㅋ</td>\n",
       "      <td>1</td>\n",
       "    </tr>\n",
       "  </tbody>\n",
       "</table>\n",
       "</div>"
      ],
      "text/plain": [
       "                                            document  label\n",
       "0                                서로만이 이렇게 있을때 보기 좋다♥      8\n",
       "1  승호 키스신에 누나는 웁니다..흑흑..너무 찐하쟈너..무방비상태였는데 충격먹음..손...      8\n",
       "2           전광훈이 교주 됐네 ㅋㅋㅋ 애라이 새꺄 니가 목사면 박쥐가 독수리다 임마      3\n",
       "3                         인덕션 꾹 누를때 기절하는줄ㅋㅋㅋ 아재개그통한다      8\n",
       "4                                    못생긴대로 논다더니 ㅋㅋㅋㅋ      1"
      ]
     },
     "execution_count": 241,
     "metadata": {},
     "output_type": "execute_result"
    }
   ],
   "source": [
    "df.head()"
   ]
  },
  {
   "cell_type": "code",
   "execution_count": 244,
   "metadata": {},
   "outputs": [],
   "source": [
    "df.to_csv('/Users/limkaram/PersonalSpace/frown-sentence-classifier/data/preprocess/merge-kmhas-unsmile-hatescore.csv', index=False)"
   ]
  },
  {
   "cell_type": "markdown",
   "metadata": {},
   "source": [
    "## EDA"
   ]
  },
  {
   "cell_type": "code",
   "execution_count": 8,
   "metadata": {},
   "outputs": [],
   "source": [
    "df = pd.read_csv('/Users/limkaram/PersonalSpace/frown-sentence-classifier/data/preprocess/merge-kmhas-unsmile-hatescore.csv')"
   ]
  },
  {
   "cell_type": "code",
   "execution_count": 9,
   "metadata": {},
   "outputs": [
    {
     "data": {
      "text/html": [
       "<div>\n",
       "<style scoped>\n",
       "    .dataframe tbody tr th:only-of-type {\n",
       "        vertical-align: middle;\n",
       "    }\n",
       "\n",
       "    .dataframe tbody tr th {\n",
       "        vertical-align: top;\n",
       "    }\n",
       "\n",
       "    .dataframe thead th {\n",
       "        text-align: right;\n",
       "    }\n",
       "</style>\n",
       "<table border=\"1\" class=\"dataframe\">\n",
       "  <thead>\n",
       "    <tr style=\"text-align: right;\">\n",
       "      <th></th>\n",
       "      <th>document</th>\n",
       "      <th>label</th>\n",
       "      <th>kor-label</th>\n",
       "      <th>en-label</th>\n",
       "    </tr>\n",
       "  </thead>\n",
       "  <tbody>\n",
       "    <tr>\n",
       "      <th>0</th>\n",
       "      <td>서로만이 이렇게 있을때 보기 좋다♥</td>\n",
       "      <td>8</td>\n",
       "      <td>해당사항없음</td>\n",
       "      <td>Not Hate Speech</td>\n",
       "    </tr>\n",
       "    <tr>\n",
       "      <th>1</th>\n",
       "      <td>승호 키스신에 누나는 웁니다..흑흑..너무 찐하쟈너..무방비상태였는데 충격먹음..손...</td>\n",
       "      <td>8</td>\n",
       "      <td>해당사항없음</td>\n",
       "      <td>Not Hate Speech</td>\n",
       "    </tr>\n",
       "    <tr>\n",
       "      <th>2</th>\n",
       "      <td>전광훈이 교주 됐네 ㅋㅋㅋ 애라이 새꺄 니가 목사면 박쥐가 독수리다 임마</td>\n",
       "      <td>3</td>\n",
       "      <td>혐오욕설</td>\n",
       "      <td>Profanity</td>\n",
       "    </tr>\n",
       "    <tr>\n",
       "      <th>3</th>\n",
       "      <td>인덕션 꾹 누를때 기절하는줄ㅋㅋㅋ 아재개그통한다</td>\n",
       "      <td>8</td>\n",
       "      <td>해당사항없음</td>\n",
       "      <td>Not Hate Speech</td>\n",
       "    </tr>\n",
       "    <tr>\n",
       "      <th>4</th>\n",
       "      <td>못생긴대로 논다더니 ㅋㅋㅋㅋ</td>\n",
       "      <td>1</td>\n",
       "      <td>외모차별</td>\n",
       "      <td>Physical</td>\n",
       "    </tr>\n",
       "  </tbody>\n",
       "</table>\n",
       "</div>"
      ],
      "text/plain": [
       "                                            document  label kor-label  \\\n",
       "0                                서로만이 이렇게 있을때 보기 좋다♥      8    해당사항없음   \n",
       "1  승호 키스신에 누나는 웁니다..흑흑..너무 찐하쟈너..무방비상태였는데 충격먹음..손...      8    해당사항없음   \n",
       "2           전광훈이 교주 됐네 ㅋㅋㅋ 애라이 새꺄 니가 목사면 박쥐가 독수리다 임마      3      혐오욕설   \n",
       "3                         인덕션 꾹 누를때 기절하는줄ㅋㅋㅋ 아재개그통한다      8    해당사항없음   \n",
       "4                                    못생긴대로 논다더니 ㅋㅋㅋㅋ      1      외모차별   \n",
       "\n",
       "          en-label  \n",
       "0  Not Hate Speech  \n",
       "1  Not Hate Speech  \n",
       "2        Profanity  \n",
       "3  Not Hate Speech  \n",
       "4         Physical  "
      ]
     },
     "execution_count": 9,
     "metadata": {},
     "output_type": "execute_result"
    }
   ],
   "source": [
    "df.head()"
   ]
  },
  {
   "cell_type": "code",
   "execution_count": 10,
   "metadata": {},
   "outputs": [
    {
     "name": "stdout",
     "output_type": "stream",
     "text": [
      "<class 'pandas.core.frame.DataFrame'>\n",
      "RangeIndex: 109228 entries, 0 to 109227\n",
      "Data columns (total 4 columns):\n",
      " #   Column     Non-Null Count   Dtype \n",
      "---  ------     --------------   ----- \n",
      " 0   document   109228 non-null  object\n",
      " 1   label      109228 non-null  int64 \n",
      " 2   kor-label  109228 non-null  object\n",
      " 3   en-label   109228 non-null  object\n",
      "dtypes: int64(1), object(3)\n",
      "memory usage: 3.3+ MB\n"
     ]
    }
   ],
   "source": [
    "df.info()"
   ]
  },
  {
   "cell_type": "code",
   "execution_count": 104,
   "metadata": {},
   "outputs": [],
   "source": [
    "label2kor = {0: '출신차별',\n",
    "            1: '외모차별',\n",
    "            2: '정치성향차별',\n",
    "            3: '혐오욕설',\n",
    "            4: '연령차별',\n",
    "            5: '성/가족차별',\n",
    "            6: '인종차별',\n",
    "            7: '종교차별',\n",
    "            8: '해당사항없음'\n",
    "            }"
   ]
  },
  {
   "cell_type": "code",
   "execution_count": 105,
   "metadata": {},
   "outputs": [],
   "source": [
    "label2en = {0: 'Origin',\n",
    "            1: 'Physical',\n",
    "            2: 'Politics',\n",
    "            3: 'Profanity',\n",
    "            4: 'Age',\n",
    "            5: 'Gender/Family',\n",
    "            6: 'Race',\n",
    "            7: 'Religion',\n",
    "            8: 'Not Hate Speech'\n",
    "            }"
   ]
  },
  {
   "cell_type": "code",
   "execution_count": 54,
   "metadata": {},
   "outputs": [
    {
     "data": {
      "text/plain": [
       "['Origin',\n",
       " 'Physical',\n",
       " 'Politics',\n",
       " 'Profanity',\n",
       " 'Age',\n",
       " 'Gender/Family',\n",
       " 'Race',\n",
       " 'Religion',\n",
       " 'Not Hate Speech']"
      ]
     },
     "execution_count": 54,
     "metadata": {},
     "output_type": "execute_result"
    }
   ],
   "source": [
    "[i for i in label2en.values()]"
   ]
  },
  {
   "cell_type": "code",
   "execution_count": 250,
   "metadata": {},
   "outputs": [],
   "source": [
    "df['kor-label'] = df.label.apply(lambda x: label2kor[x])\n",
    "df['en-label'] = df.label.apply(lambda x: label2en[x])"
   ]
  },
  {
   "cell_type": "code",
   "execution_count": 251,
   "metadata": {},
   "outputs": [
    {
     "data": {
      "text/html": [
       "<div>\n",
       "<style scoped>\n",
       "    .dataframe tbody tr th:only-of-type {\n",
       "        vertical-align: middle;\n",
       "    }\n",
       "\n",
       "    .dataframe tbody tr th {\n",
       "        vertical-align: top;\n",
       "    }\n",
       "\n",
       "    .dataframe thead th {\n",
       "        text-align: right;\n",
       "    }\n",
       "</style>\n",
       "<table border=\"1\" class=\"dataframe\">\n",
       "  <thead>\n",
       "    <tr style=\"text-align: right;\">\n",
       "      <th></th>\n",
       "      <th>document</th>\n",
       "      <th>label</th>\n",
       "      <th>kor-label</th>\n",
       "      <th>en-label</th>\n",
       "    </tr>\n",
       "  </thead>\n",
       "  <tbody>\n",
       "    <tr>\n",
       "      <th>0</th>\n",
       "      <td>서로만이 이렇게 있을때 보기 좋다♥</td>\n",
       "      <td>8</td>\n",
       "      <td>해당사항없음</td>\n",
       "      <td>Not Hate Speech</td>\n",
       "    </tr>\n",
       "    <tr>\n",
       "      <th>1</th>\n",
       "      <td>승호 키스신에 누나는 웁니다..흑흑..너무 찐하쟈너..무방비상태였는데 충격먹음..손...</td>\n",
       "      <td>8</td>\n",
       "      <td>해당사항없음</td>\n",
       "      <td>Not Hate Speech</td>\n",
       "    </tr>\n",
       "    <tr>\n",
       "      <th>2</th>\n",
       "      <td>전광훈이 교주 됐네 ㅋㅋㅋ 애라이 새꺄 니가 목사면 박쥐가 독수리다 임마</td>\n",
       "      <td>3</td>\n",
       "      <td>혐오욕설</td>\n",
       "      <td>Profanity</td>\n",
       "    </tr>\n",
       "    <tr>\n",
       "      <th>3</th>\n",
       "      <td>인덕션 꾹 누를때 기절하는줄ㅋㅋㅋ 아재개그통한다</td>\n",
       "      <td>8</td>\n",
       "      <td>해당사항없음</td>\n",
       "      <td>Not Hate Speech</td>\n",
       "    </tr>\n",
       "    <tr>\n",
       "      <th>4</th>\n",
       "      <td>못생긴대로 논다더니 ㅋㅋㅋㅋ</td>\n",
       "      <td>1</td>\n",
       "      <td>외모차별</td>\n",
       "      <td>Physical</td>\n",
       "    </tr>\n",
       "  </tbody>\n",
       "</table>\n",
       "</div>"
      ],
      "text/plain": [
       "                                            document  label kor-label  \\\n",
       "0                                서로만이 이렇게 있을때 보기 좋다♥      8    해당사항없음   \n",
       "1  승호 키스신에 누나는 웁니다..흑흑..너무 찐하쟈너..무방비상태였는데 충격먹음..손...      8    해당사항없음   \n",
       "2           전광훈이 교주 됐네 ㅋㅋㅋ 애라이 새꺄 니가 목사면 박쥐가 독수리다 임마      3      혐오욕설   \n",
       "3                         인덕션 꾹 누를때 기절하는줄ㅋㅋㅋ 아재개그통한다      8    해당사항없음   \n",
       "4                                    못생긴대로 논다더니 ㅋㅋㅋㅋ      1      외모차별   \n",
       "\n",
       "          en-label  \n",
       "0  Not Hate Speech  \n",
       "1  Not Hate Speech  \n",
       "2        Profanity  \n",
       "3  Not Hate Speech  \n",
       "4         Physical  "
      ]
     },
     "execution_count": 251,
     "metadata": {},
     "output_type": "execute_result"
    }
   ],
   "source": [
    "df.head()"
   ]
  },
  {
   "cell_type": "code",
   "execution_count": 124,
   "metadata": {},
   "outputs": [
    {
     "data": {
      "text/plain": [
       "해당사항없음    59615\n",
       "혐오욕설      13076\n",
       "출신차별       8774\n",
       "성/가족차별     7667\n",
       "정치성향차별     6931\n",
       "외모차별       5443\n",
       "연령차별       4770\n",
       "종교차별       2952\n",
       "Name: kor-label, dtype: int64"
      ]
     },
     "execution_count": 124,
     "metadata": {},
     "output_type": "execute_result"
    }
   ],
   "source": [
    "df['kor-label'].value_counts()"
   ]
  },
  {
   "cell_type": "code",
   "execution_count": 268,
   "metadata": {},
   "outputs": [
    {
     "name": "stdout",
     "output_type": "stream",
     "text": [
      "인상을 찌푸리지 않는 문장의 비중: 54.6%\n",
      "인상을 찌푸리는 문장의 비중: 45.4%\n"
     ]
    }
   ],
   "source": [
    "not_clean_ratio = df['kor-label'].value_counts().iloc[1:].sum() / len(df) * 100\n",
    "clean_ratio = df['kor-label'].value_counts().iloc[0] / len(df) * 100\n",
    "print(f'인상을 찌푸리지 않는 문장의 비중: {clean_ratio:.1f}%')\n",
    "print(f'인상을 찌푸리는 문장의 비중: {not_clean_ratio:.1f}%')"
   ]
  },
  {
   "cell_type": "code",
   "execution_count": 123,
   "metadata": {},
   "outputs": [
    {
     "data": {
      "text/plain": [
       "<AxesSubplot: >"
      ]
     },
     "execution_count": 123,
     "metadata": {},
     "output_type": "execute_result"
    },
    {
     "data": {
      "image/png": "[encoded data removed]",
      "text/plain": [
       "<Figure size 640x480 with 1 Axes>"
      ]
     },
     "metadata": {},
     "output_type": "display_data"
    }
   ],
   "source": [
    "df['en-label'].value_counts().plot(kind='bar')"
   ]
  },
  {
   "cell_type": "code",
   "execution_count": 11,
   "metadata": {},
   "outputs": [],
   "source": [
    "import torch\n",
    "from transformers import AutoTokenizer"
   ]
  },
  {
   "cell_type": "code",
   "execution_count": 14,
   "metadata": {},
   "outputs": [
    {
     "name": "stderr",
     "output_type": "stream",
     "text": [
      "Downloading: 100%|██████████| 288/288 [00:00<00:00, 43.1kB/s]\n",
      "Downloading: 100%|██████████| 504/504 [00:00<00:00, 202kB/s]\n",
      "loading configuration file config.json from cache at /Users/limkaram/.cache/huggingface/hub/models--beomi--KcELECTRA-base-v2022/snapshots/4431b6c7ad00f82fd50880864574cef97e0a368b/config.json\n",
      "Model config ElectraConfig {\n",
      "  \"_name_or_path\": \"beomi/KcELECTRA-base-v2022\",\n",
      "  \"architectures\": [\n",
      "    \"ElectraForPreTraining\"\n",
      "  ],\n",
      "  \"attention_probs_dropout_prob\": 0.1,\n",
      "  \"classifier_dropout\": null,\n",
      "  \"embedding_size\": 768,\n",
      "  \"hidden_act\": \"gelu\",\n",
      "  \"hidden_dropout_prob\": 0.1,\n",
      "  \"hidden_size\": 768,\n",
      "  \"initializer_range\": 0.02,\n",
      "  \"intermediate_size\": 3072,\n",
      "  \"layer_norm_eps\": 1e-12,\n",
      "  \"max_position_embeddings\": 512,\n",
      "  \"model_type\": \"electra\",\n",
      "  \"num_attention_heads\": 12,\n",
      "  \"num_hidden_layers\": 12,\n",
      "  \"pad_token_id\": 0,\n",
      "  \"position_embedding_type\": \"absolute\",\n",
      "  \"summary_activation\": \"gelu\",\n",
      "  \"summary_last_dropout\": 0.1,\n",
      "  \"summary_type\": \"first\",\n",
      "  \"summary_use_proj\": true,\n",
      "  \"tokenizer_class\": \"BertTokenizer\",\n",
      "  \"transformers_version\": \"4.25.1\",\n",
      "  \"type_vocab_size\": 2,\n",
      "  \"use_cache\": true,\n",
      "  \"vocab_size\": 54343\n",
      "}\n",
      "\n",
      "Downloading: 100%|██████████| 450k/450k [00:02<00:00, 204kB/s]  \n",
      "Downloading: 100%|██████████| 124/124 [00:00<00:00, 57.2kB/s]\n",
      "loading file vocab.txt from cache at /Users/limkaram/.cache/huggingface/hub/models--beomi--KcELECTRA-base-v2022/snapshots/4431b6c7ad00f82fd50880864574cef97e0a368b/vocab.txt\n",
      "loading file tokenizer.json from cache at None\n",
      "loading file added_tokens.json from cache at None\n",
      "loading file special_tokens_map.json from cache at /Users/limkaram/.cache/huggingface/hub/models--beomi--KcELECTRA-base-v2022/snapshots/4431b6c7ad00f82fd50880864574cef97e0a368b/special_tokens_map.json\n",
      "loading file tokenizer_config.json from cache at /Users/limkaram/.cache/huggingface/hub/models--beomi--KcELECTRA-base-v2022/snapshots/4431b6c7ad00f82fd50880864574cef97e0a368b/tokenizer_config.json\n",
      "loading configuration file config.json from cache at /Users/limkaram/.cache/huggingface/hub/models--beomi--KcELECTRA-base-v2022/snapshots/4431b6c7ad00f82fd50880864574cef97e0a368b/config.json\n",
      "Model config ElectraConfig {\n",
      "  \"_name_or_path\": \"beomi/KcELECTRA-base-v2022\",\n",
      "  \"architectures\": [\n",
      "    \"ElectraForPreTraining\"\n",
      "  ],\n",
      "  \"attention_probs_dropout_prob\": 0.1,\n",
      "  \"classifier_dropout\": null,\n",
      "  \"embedding_size\": 768,\n",
      "  \"hidden_act\": \"gelu\",\n",
      "  \"hidden_dropout_prob\": 0.1,\n",
      "  \"hidden_size\": 768,\n",
      "  \"initializer_range\": 0.02,\n",
      "  \"intermediate_size\": 3072,\n",
      "  \"layer_norm_eps\": 1e-12,\n",
      "  \"max_position_embeddings\": 512,\n",
      "  \"model_type\": \"electra\",\n",
      "  \"num_attention_heads\": 12,\n",
      "  \"num_hidden_layers\": 12,\n",
      "  \"pad_token_id\": 0,\n",
      "  \"position_embedding_type\": \"absolute\",\n",
      "  \"summary_activation\": \"gelu\",\n",
      "  \"summary_last_dropout\": 0.1,\n",
      "  \"summary_type\": \"first\",\n",
      "  \"summary_use_proj\": true,\n",
      "  \"tokenizer_class\": \"BertTokenizer\",\n",
      "  \"transformers_version\": \"4.25.1\",\n",
      "  \"type_vocab_size\": 2,\n",
      "  \"use_cache\": true,\n",
      "  \"vocab_size\": 54343\n",
      "}\n",
      "\n",
      "loading configuration file config.json from cache at /Users/limkaram/.cache/huggingface/hub/models--beomi--KcELECTRA-base-v2022/snapshots/4431b6c7ad00f82fd50880864574cef97e0a368b/config.json\n",
      "Model config ElectraConfig {\n",
      "  \"_name_or_path\": \"beomi/KcELECTRA-base-v2022\",\n",
      "  \"architectures\": [\n",
      "    \"ElectraForPreTraining\"\n",
      "  ],\n",
      "  \"attention_probs_dropout_prob\": 0.1,\n",
      "  \"classifier_dropout\": null,\n",
      "  \"embedding_size\": 768,\n",
      "  \"hidden_act\": \"gelu\",\n",
      "  \"hidden_dropout_prob\": 0.1,\n",
      "  \"hidden_size\": 768,\n",
      "  \"initializer_range\": 0.02,\n",
      "  \"intermediate_size\": 3072,\n",
      "  \"layer_norm_eps\": 1e-12,\n",
      "  \"max_position_embeddings\": 512,\n",
      "  \"model_type\": \"electra\",\n",
      "  \"num_attention_heads\": 12,\n",
      "  \"num_hidden_layers\": 12,\n",
      "  \"pad_token_id\": 0,\n",
      "  \"position_embedding_type\": \"absolute\",\n",
      "  \"summary_activation\": \"gelu\",\n",
      "  \"summary_last_dropout\": 0.1,\n",
      "  \"summary_type\": \"first\",\n",
      "  \"summary_use_proj\": true,\n",
      "  \"tokenizer_class\": \"BertTokenizer\",\n",
      "  \"transformers_version\": \"4.25.1\",\n",
      "  \"type_vocab_size\": 2,\n",
      "  \"use_cache\": true,\n",
      "  \"vocab_size\": 54343\n",
      "}\n",
      "\n"
     ]
    },
    {
     "data": {
      "text/plain": [
       "PreTrainedTokenizerFast(name_or_path='beomi/KcELECTRA-base-v2022', vocab_size=54343, model_max_len=512, is_fast=True, padding_side='right', truncation_side='right', special_tokens={'unk_token': '[UNK]', 'sep_token': '[SEP]', 'pad_token': '[PAD]', 'cls_token': '[CLS]', 'mask_token': '[MASK]'})"
      ]
     },
     "execution_count": 14,
     "metadata": {},
     "output_type": "execute_result"
    }
   ],
   "source": [
    "tokenizer = AutoTokenizer.from_pretrained('beomi/KcELECTRA-base-v2022')\n",
    "tokenizer"
   ]
  },
  {
   "cell_type": "code",
   "execution_count": 16,
   "metadata": {},
   "outputs": [
    {
     "data": {
      "text/plain": [
       "['[CLS]', '개', '##페미', '##년', '꼴보기', '싫음', '[SEP]']"
      ]
     },
     "execution_count": 16,
     "metadata": {},
     "output_type": "execute_result"
    }
   ],
   "source": [
    "tokenizer.tokenize('[CLS] 개페미년 꼴보기 싫음 [SEP]')"
   ]
  },
  {
   "cell_type": "code",
   "execution_count": 55,
   "metadata": {},
   "outputs": [],
   "source": [
    "import re\n",
    "import emoji\n",
    "from soynlp.normalizer import repeat_normalize\n",
    "\n",
    "pattern = re.compile(f'[^ .,?!/@$%~％·∼()\\x00-\\x7Fㄱ-ㅣ가-힣]+')\n",
    "url_pattern = re.compile(\n",
    "    r'https?:\\/\\/(www\\.)?[-a-zA-Z0-9@:%._\\+~#=]{1,256}\\.[a-zA-Z0-9()]{1,6}\\b([-a-zA-Z0-9()@:%_\\+.~#?&//=]*)')\n",
    "\n",
    "def clean(x): \n",
    "    x = pattern.sub(' ', x)\n",
    "    x = emoji.replace_emoji(x, replace='') #emoji 삭제\n",
    "    x = url_pattern.sub('', x)\n",
    "    x = x.strip()\n",
    "    x = repeat_normalize(x, num_repeats=2)\n",
    "    return x"
   ]
  },
  {
   "cell_type": "code",
   "execution_count": 56,
   "metadata": {},
   "outputs": [],
   "source": [
    "length_list = []\n",
    "\n",
    "for text in df.document:\n",
    "    text = clean(text)\n",
    "    length_list.append(len(tokenizer.tokenize(f'[CLS] {text} [SEP]')))"
   ]
  },
  {
   "cell_type": "code",
   "execution_count": 57,
   "metadata": {},
   "outputs": [
    {
     "data": {
      "text/plain": [
       "16.920459955322812"
      ]
     },
     "execution_count": 57,
     "metadata": {},
     "output_type": "execute_result"
    }
   ],
   "source": [
    "np.mean(length_list)"
   ]
  },
  {
   "cell_type": "code",
   "execution_count": 58,
   "metadata": {},
   "outputs": [
    {
     "data": {
      "text/plain": [
       "count    109228.000000\n",
       "mean         16.920460\n",
       "std          13.138825\n",
       "min           2.000000\n",
       "25%          10.000000\n",
       "50%          14.000000\n",
       "75%          19.000000\n",
       "max         201.000000\n",
       "dtype: float64"
      ]
     },
     "execution_count": 58,
     "metadata": {},
     "output_type": "execute_result"
    }
   ],
   "source": [
    "pd.Series(length_list).describe()"
   ]
  },
  {
   "cell_type": "code",
   "execution_count": 59,
   "metadata": {},
   "outputs": [
    {
     "name": "stdout",
     "output_type": "stream",
     "text": [
      "maxlen 40 이하의 비중: 95.4%\n",
      "maxlen 41 이하의 비중: 95.7%\n",
      "maxlen 42 이하의 비중: 95.9%\n",
      "maxlen 43 이하의 비중: 96.1%\n",
      "maxlen 44 이하의 비중: 96.3%\n",
      "maxlen 45 이하의 비중: 96.5%\n",
      "maxlen 46 이하의 비중: 96.6%\n",
      "maxlen 47 이하의 비중: 96.8%\n",
      "maxlen 48 이하의 비중: 96.9%\n",
      "maxlen 49 이하의 비중: 97.1%\n",
      "maxlen 50 이하의 비중: 97.2%\n",
      "maxlen 51 이하의 비중: 97.3%\n",
      "maxlen 52 이하의 비중: 97.5%\n",
      "maxlen 53 이하의 비중: 97.6%\n",
      "maxlen 54 이하의 비중: 97.7%\n",
      "maxlen 55 이하의 비중: 97.8%\n",
      "maxlen 56 이하의 비중: 97.9%\n",
      "maxlen 57 이하의 비중: 98.0%\n",
      "maxlen 58 이하의 비중: 98.1%\n",
      "maxlen 59 이하의 비중: 98.2%\n",
      "maxlen 60 이하의 비중: 98.3%\n"
     ]
    }
   ],
   "source": [
    "total_len = len(length_list)\n",
    "\n",
    "for x in range(40, 61):\n",
    "    print(f'maxlen {x} 이하의 비중: {(np.array(length_list) <= x).sum() / total_len * 100:.1f}%')"
   ]
  },
  {
   "cell_type": "code",
   "execution_count": 60,
   "metadata": {},
   "outputs": [
    {
     "data": {
      "text/plain": [
       "201"
      ]
     },
     "execution_count": 60,
     "metadata": {},
     "output_type": "execute_result"
    }
   ],
   "source": [
    "max(length_list)"
   ]
  },
  {
   "cell_type": "code",
   "execution_count": 61,
   "metadata": {},
   "outputs": [
    {
     "name": "stderr",
     "output_type": "stream",
     "text": [
      "/var/folders/bv/z8y0t63535798g3s5k9w_jpr0000gn/T/ipykernel_33043/2415782539.py:2: UserWarning: \n",
      "\n",
      "`distplot` is a deprecated function and will be removed in seaborn v0.14.0.\n",
      "\n",
      "Please adapt your code to use either `displot` (a figure-level function with\n",
      "similar flexibility) or `histplot` (an axes-level function for histograms).\n",
      "\n",
      "For a guide to updating your code to use the new functions, please see\n",
      "https://gist.github.com/mwaskom/de44147ed2974457ad6372750bbe5751\n",
      "\n",
      "  sns.distplot(pd.Series(length_list), bins=50)\n"
     ]
    },
    {
     "data": {
      "image/png": "[encoded data removed]",
      "text/plain": [
       "<Figure size 1000x1000 with 1 Axes>"
      ]
     },
     "metadata": {},
     "output_type": "display_data"
    }
   ],
   "source": [
    "plt.figure(figsize=(10, 10))\n",
    "sns.distplot(pd.Series(length_list), bins=50)\n",
    "plt.xlim(0, 100)\n",
    "plt.show()"
   ]
  },
  {
   "cell_type": "code",
   "execution_count": 92,
   "metadata": {},
   "outputs": [],
   "source": [
    "df = pd.read_csv('/Users/limkaram/PersonalSpace/frown-sentence-classifier/data/preprocess/merge-kmhas-unsmile-hatescore.csv')"
   ]
  },
  {
   "cell_type": "code",
   "execution_count": 93,
   "metadata": {},
   "outputs": [
    {
     "name": "stdout",
     "output_type": "stream",
     "text": [
      "<class 'pandas.core.frame.DataFrame'>\n",
      "RangeIndex: 109228 entries, 0 to 109227\n",
      "Data columns (total 4 columns):\n",
      " #   Column     Non-Null Count   Dtype \n",
      "---  ------     --------------   ----- \n",
      " 0   document   109228 non-null  object\n",
      " 1   label      109228 non-null  int64 \n",
      " 2   kor-label  109228 non-null  object\n",
      " 3   en-label   109228 non-null  object\n",
      "dtypes: int64(1), object(3)\n",
      "memory usage: 3.3+ MB\n"
     ]
    }
   ],
   "source": [
    "df.info()"
   ]
  },
  {
   "cell_type": "code",
   "execution_count": 94,
   "metadata": {},
   "outputs": [],
   "source": [
    "df.loc[df[df['label'] == 6].index, 'label'] = 0"
   ]
  },
  {
   "cell_type": "code",
   "execution_count": 95,
   "metadata": {},
   "outputs": [
    {
     "data": {
      "text/plain": [
       "8    59615\n",
       "3    13076\n",
       "0     8774\n",
       "5     7667\n",
       "2     6931\n",
       "1     5443\n",
       "4     4770\n",
       "7     2952\n",
       "Name: label, dtype: int64"
      ]
     },
     "execution_count": 95,
     "metadata": {},
     "output_type": "execute_result"
    }
   ],
   "source": [
    "df.label.value_counts()"
   ]
  },
  {
   "cell_type": "code",
   "execution_count": 96,
   "metadata": {},
   "outputs": [],
   "source": [
    "def temp(x):\n",
    "    x = int(x)\n",
    "    \n",
    "    if x > 6:\n",
    "        return x - 1\n",
    "    \n",
    "    return x"
   ]
  },
  {
   "cell_type": "code",
   "execution_count": 97,
   "metadata": {},
   "outputs": [],
   "source": [
    "df['label'] = df.label.apply(temp)"
   ]
  },
  {
   "cell_type": "code",
   "execution_count": 98,
   "metadata": {},
   "outputs": [
    {
     "data": {
      "text/plain": [
       "7    59615\n",
       "3    13076\n",
       "0     8774\n",
       "5     7667\n",
       "2     6931\n",
       "1     5443\n",
       "4     4770\n",
       "6     2952\n",
       "Name: label, dtype: int64"
      ]
     },
     "execution_count": 98,
     "metadata": {},
     "output_type": "execute_result"
    }
   ],
   "source": [
    "df.label.value_counts()"
   ]
  },
  {
   "cell_type": "code",
   "execution_count": 107,
   "metadata": {},
   "outputs": [],
   "source": [
    "label2kor = {0: '출신차별',\n",
    "            1: '외모차별',\n",
    "            2: '정치성향차별',\n",
    "            3: '혐오욕설',\n",
    "            4: '연령차별',\n",
    "            5: '성/가족차별',\n",
    "            6: '종교차별',\n",
    "            7: '해당사항없음'\n",
    "            }"
   ]
  },
  {
   "cell_type": "code",
   "execution_count": 108,
   "metadata": {},
   "outputs": [],
   "source": [
    "label2en = {0: 'Origin',\n",
    "            1: 'Physical',\n",
    "            2: 'Politics',\n",
    "            3: 'Profanity',\n",
    "            4: 'Age',\n",
    "            5: 'Gender/Family',\n",
    "            6: 'Religion',\n",
    "            7: 'Not Hate Speech'\n",
    "            }"
   ]
  },
  {
   "cell_type": "code",
   "execution_count": 109,
   "metadata": {},
   "outputs": [],
   "source": [
    "df['kor-label'] = df.label.apply(lambda x: label2kor[x])\n",
    "df['en-label'] = df.label.apply(lambda x: label2en[x])"
   ]
  },
  {
   "cell_type": "code",
   "execution_count": 110,
   "metadata": {},
   "outputs": [
    {
     "data": {
      "text/plain": [
       "해당사항없음    59615\n",
       "혐오욕설      13076\n",
       "출신차별       8774\n",
       "성/가족차별     7667\n",
       "정치성향차별     6931\n",
       "외모차별       5443\n",
       "연령차별       4770\n",
       "종교차별       2952\n",
       "Name: kor-label, dtype: int64"
      ]
     },
     "execution_count": 110,
     "metadata": {},
     "output_type": "execute_result"
    }
   ],
   "source": [
    "df['kor-label'].value_counts()"
   ]
  },
  {
   "cell_type": "code",
   "execution_count": 112,
   "metadata": {},
   "outputs": [
    {
     "data": {
      "text/html": [
       "<div>\n",
       "<style scoped>\n",
       "    .dataframe tbody tr th:only-of-type {\n",
       "        vertical-align: middle;\n",
       "    }\n",
       "\n",
       "    .dataframe tbody tr th {\n",
       "        vertical-align: top;\n",
       "    }\n",
       "\n",
       "    .dataframe thead th {\n",
       "        text-align: right;\n",
       "    }\n",
       "</style>\n",
       "<table border=\"1\" class=\"dataframe\">\n",
       "  <thead>\n",
       "    <tr style=\"text-align: right;\">\n",
       "      <th></th>\n",
       "      <th>document</th>\n",
       "      <th>label</th>\n",
       "      <th>kor-label</th>\n",
       "      <th>en-label</th>\n",
       "    </tr>\n",
       "  </thead>\n",
       "  <tbody>\n",
       "    <tr>\n",
       "      <th>0</th>\n",
       "      <td>서로만이 이렇게 있을때 보기 좋다♥</td>\n",
       "      <td>7</td>\n",
       "      <td>해당사항없음</td>\n",
       "      <td>Not Hate Speech</td>\n",
       "    </tr>\n",
       "    <tr>\n",
       "      <th>1</th>\n",
       "      <td>승호 키스신에 누나는 웁니다..흑흑..너무 찐하쟈너..무방비상태였는데 충격먹음..손...</td>\n",
       "      <td>7</td>\n",
       "      <td>해당사항없음</td>\n",
       "      <td>Not Hate Speech</td>\n",
       "    </tr>\n",
       "    <tr>\n",
       "      <th>2</th>\n",
       "      <td>전광훈이 교주 됐네 ㅋㅋㅋ 애라이 새꺄 니가 목사면 박쥐가 독수리다 임마</td>\n",
       "      <td>3</td>\n",
       "      <td>혐오욕설</td>\n",
       "      <td>Profanity</td>\n",
       "    </tr>\n",
       "    <tr>\n",
       "      <th>3</th>\n",
       "      <td>인덕션 꾹 누를때 기절하는줄ㅋㅋㅋ 아재개그통한다</td>\n",
       "      <td>7</td>\n",
       "      <td>해당사항없음</td>\n",
       "      <td>Not Hate Speech</td>\n",
       "    </tr>\n",
       "    <tr>\n",
       "      <th>4</th>\n",
       "      <td>못생긴대로 논다더니 ㅋㅋㅋㅋ</td>\n",
       "      <td>1</td>\n",
       "      <td>외모차별</td>\n",
       "      <td>Physical</td>\n",
       "    </tr>\n",
       "  </tbody>\n",
       "</table>\n",
       "</div>"
      ],
      "text/plain": [
       "                                            document  label kor-label  \\\n",
       "0                                서로만이 이렇게 있을때 보기 좋다♥      7    해당사항없음   \n",
       "1  승호 키스신에 누나는 웁니다..흑흑..너무 찐하쟈너..무방비상태였는데 충격먹음..손...      7    해당사항없음   \n",
       "2           전광훈이 교주 됐네 ㅋㅋㅋ 애라이 새꺄 니가 목사면 박쥐가 독수리다 임마      3      혐오욕설   \n",
       "3                         인덕션 꾹 누를때 기절하는줄ㅋㅋㅋ 아재개그통한다      7    해당사항없음   \n",
       "4                                    못생긴대로 논다더니 ㅋㅋㅋㅋ      1      외모차별   \n",
       "\n",
       "          en-label  \n",
       "0  Not Hate Speech  \n",
       "1  Not Hate Speech  \n",
       "2        Profanity  \n",
       "3  Not Hate Speech  \n",
       "4         Physical  "
      ]
     },
     "execution_count": 112,
     "metadata": {},
     "output_type": "execute_result"
    }
   ],
   "source": [
    "df.head()"
   ]
  },
  {
   "cell_type": "code",
   "execution_count": 113,
   "metadata": {},
   "outputs": [],
   "source": [
    "df.to_csv('/Users/limkaram/PersonalSpace/frown-sentence-classifier/data/preprocess/merge-kmhas-unsmile-hatescore-removeRace.csv', index=False)"
   ]
  },
  {
   "cell_type": "code",
   "execution_count": 114,
   "metadata": {},
   "outputs": [],
   "source": [
    "\n",
    "from sklearn.model_selection import train_test_split"
   ]
  },
  {
   "cell_type": "code",
   "execution_count": 115,
   "metadata": {},
   "outputs": [],
   "source": [
    "X_train, X_test, y_train, y_test = train_test_split(df['document'], df['label'], test_size=0.1, random_state=1031, shuffle=True, stratify=df['label'])"
   ]
  },
  {
   "cell_type": "code",
   "execution_count": 116,
   "metadata": {},
   "outputs": [],
   "source": [
    "X_train, X_val, y_train, y_val = train_test_split(X_train, y_train, test_size=0.1, random_state=1031, shuffle=True, stratify=y_train)"
   ]
  },
  {
   "cell_type": "code",
   "execution_count": 117,
   "metadata": {},
   "outputs": [
    {
     "name": "stdout",
     "output_type": "stream",
     "text": [
      "88474\n",
      "10923\n",
      "9831\n"
     ]
    }
   ],
   "source": [
    "print(len(y_train))\n",
    "print(len(y_test))\n",
    "print(len(y_val))"
   ]
  },
  {
   "cell_type": "code",
   "execution_count": 118,
   "metadata": {},
   "outputs": [],
   "source": [
    "train_dataset = pd.DataFrame({'document': X_train, 'label': y_train})\n",
    "test_dataset = pd.DataFrame({'document': X_test, 'label': y_test})\n",
    "val_dataset = pd.DataFrame({'document': X_val, 'label': y_val})\n"
   ]
  },
  {
   "cell_type": "code",
   "execution_count": 190,
   "metadata": {},
   "outputs": [
    {
     "data": {
      "text/html": [
       "<div>\n",
       "<style scoped>\n",
       "    .dataframe tbody tr th:only-of-type {\n",
       "        vertical-align: middle;\n",
       "    }\n",
       "\n",
       "    .dataframe tbody tr th {\n",
       "        vertical-align: top;\n",
       "    }\n",
       "\n",
       "    .dataframe thead th {\n",
       "        text-align: right;\n",
       "    }\n",
       "</style>\n",
       "<table border=\"1\" class=\"dataframe\">\n",
       "  <thead>\n",
       "    <tr style=\"text-align: right;\">\n",
       "      <th></th>\n",
       "      <th>document</th>\n",
       "      <th>label</th>\n",
       "    </tr>\n",
       "  </thead>\n",
       "  <tbody>\n",
       "    <tr>\n",
       "      <th>104892</th>\n",
       "      <td>호남에 기득권이 많은가 봅니다. 호남기득권과 ‘또다른 호남기득권’이 뭔가요?</td>\n",
       "      <td>0</td>\n",
       "    </tr>\n",
       "    <tr>\n",
       "      <th>64872</th>\n",
       "      <td>죽다살아났는데 탈중국 하고플꺼야</td>\n",
       "      <td>7</td>\n",
       "    </tr>\n",
       "    <tr>\n",
       "      <th>72786</th>\n",
       "      <td>저 늙은 틀탁 죽지도 않고 세번이나 시장을 서울것들 다 망했지 시원타</td>\n",
       "      <td>4</td>\n",
       "    </tr>\n",
       "    <tr>\n",
       "      <th>90966</th>\n",
       "      <td>참 이 사건도 마약이네 ㅋㅋㅋ 한국에서 마약 구하기 쉽네?</td>\n",
       "      <td>7</td>\n",
       "    </tr>\n",
       "    <tr>\n",
       "      <th>27346</th>\n",
       "      <td>얼굴 왜저래</td>\n",
       "      <td>7</td>\n",
       "    </tr>\n",
       "  </tbody>\n",
       "</table>\n",
       "</div>"
      ],
      "text/plain": [
       "                                          document  label\n",
       "104892  호남에 기득권이 많은가 봅니다. 호남기득권과 ‘또다른 호남기득권’이 뭔가요?      0\n",
       "64872                            죽다살아났는데 탈중국 하고플꺼야      7\n",
       "72786       저 늙은 틀탁 죽지도 않고 세번이나 시장을 서울것들 다 망했지 시원타      4\n",
       "90966             참 이 사건도 마약이네 ㅋㅋㅋ 한국에서 마약 구하기 쉽네?      7\n",
       "27346                                       얼굴 왜저래      7"
      ]
     },
     "execution_count": 190,
     "metadata": {},
     "output_type": "execute_result"
    }
   ],
   "source": [
    "train_dataset.head()"
   ]
  },
  {
   "cell_type": "code",
   "execution_count": 192,
   "metadata": {},
   "outputs": [
    {
     "name": "stdout",
     "output_type": "stream",
     "text": [
      "Train dataset 개수: 88474개\n",
      "Test dataset 개수: 10923개\n",
      "Val dataset 개수: 9831개\n"
     ]
    }
   ],
   "source": [
    "print(f'Train dataset 개수: {len(train_dataset)}개')\n",
    "print(f'Test dataset 개수: {len(test_dataset)}개')\n",
    "print(f'Val dataset 개수: {len(val_dataset)}개')"
   ]
  },
  {
   "cell_type": "code",
   "execution_count": 120,
   "metadata": {},
   "outputs": [],
   "source": [
    "train_dataset.to_csv('/Users/limkaram/PersonalSpace/frown-sentence-classifier/data/preprocess/fsc-train-v2.csv', index=False)\n",
    "test_dataset.to_csv('/Users/limkaram/PersonalSpace/frown-sentence-classifier/data/preprocess/fsc-test-v2.csv', index=False)\n",
    "val_dataset.to_csv('/Users/limkaram/PersonalSpace/frown-sentence-classifier/data/preprocess/fsc-val-v2.csv', index=False)"
   ]
  },
  {
   "cell_type": "code",
   "execution_count": 121,
   "metadata": {},
   "outputs": [
    {
     "data": {
      "text/html": [
       "<div>\n",
       "<style scoped>\n",
       "    .dataframe tbody tr th:only-of-type {\n",
       "        vertical-align: middle;\n",
       "    }\n",
       "\n",
       "    .dataframe tbody tr th {\n",
       "        vertical-align: top;\n",
       "    }\n",
       "\n",
       "    .dataframe thead th {\n",
       "        text-align: right;\n",
       "    }\n",
       "</style>\n",
       "<table border=\"1\" class=\"dataframe\">\n",
       "  <thead>\n",
       "    <tr style=\"text-align: right;\">\n",
       "      <th></th>\n",
       "      <th>document</th>\n",
       "      <th>label</th>\n",
       "    </tr>\n",
       "  </thead>\n",
       "  <tbody>\n",
       "    <tr>\n",
       "      <th>63598</th>\n",
       "      <td>휘인악재 ㅋㅋㅋㅋㅋㅋ 아니 휘인이 잘못한것 맞긴한데 뭘 저렇게 ㅈ같게 제목 뽑냐.</td>\n",
       "      <td>3</td>\n",
       "    </tr>\n",
       "    <tr>\n",
       "      <th>106867</th>\n",
       "      <td>홍어1중대 ㅋㅋㅋㅋㅋㅋㅋㅋㅋㅋ 아놔</td>\n",
       "      <td>0</td>\n",
       "    </tr>\n",
       "    <tr>\n",
       "      <th>105703</th>\n",
       "      <td>오빠란 작자가 개미친새끼네 ㅋㅋㅋㅋㅋ동성애가 좆같은건 당연하지만 그렇다고 사람을 저...</td>\n",
       "      <td>5</td>\n",
       "    </tr>\n",
       "    <tr>\n",
       "      <th>102998</th>\n",
       "      <td>근데 쌍도애들 인터넷에선 표준어 코스프레 존나 열심히 하잖아 ㅋㅋㅋㅋㅋ</td>\n",
       "      <td>0</td>\n",
       "    </tr>\n",
       "    <tr>\n",
       "      <th>37630</th>\n",
       "      <td>흑기사는 함 ㅋㅋㅋㅋㅋㅋ</td>\n",
       "      <td>7</td>\n",
       "    </tr>\n",
       "    <tr>\n",
       "      <th>...</th>\n",
       "      <td>...</td>\n",
       "      <td>...</td>\n",
       "    </tr>\n",
       "    <tr>\n",
       "      <th>106939</th>\n",
       "      <td>똥꼬충이노ㅋㅋㅋㅋㅋ</td>\n",
       "      <td>5</td>\n",
       "    </tr>\n",
       "    <tr>\n",
       "      <th>89588</th>\n",
       "      <td>누가 믿냐 멍청이들앜ㅋㅋㅋㅋㅋㅋ니들 협박했다는 음성도 있다매?그럼 답 나온거 아냐?</td>\n",
       "      <td>7</td>\n",
       "    </tr>\n",
       "    <tr>\n",
       "      <th>31044</th>\n",
       "      <td>왜 쇼통령인데 못할게 뭐냐 ㅋㅋㅋㅋㅋㅋㅋㅋ 무튼 문슬람들 ㅋㅋㅋㅋㅋㅋㅋㅋㅋ</td>\n",
       "      <td>2</td>\n",
       "    </tr>\n",
       "    <tr>\n",
       "      <th>6866</th>\n",
       "      <td>저년은 그냥 집안이 좋은거지 연예인도아닌게 자꾸 방송인코스프레함 ㅋㅋㅋㅋㅋ</td>\n",
       "      <td>3</td>\n",
       "    </tr>\n",
       "    <tr>\n",
       "      <th>105527</th>\n",
       "      <td>둘다 병신같네 ㅋㅋㅋㅋㅋㅋ</td>\n",
       "      <td>3</td>\n",
       "    </tr>\n",
       "  </tbody>\n",
       "</table>\n",
       "<p>2128 rows × 2 columns</p>\n",
       "</div>"
      ],
      "text/plain": [
       "                                                 document  label\n",
       "63598       휘인악재 ㅋㅋㅋㅋㅋㅋ 아니 휘인이 잘못한것 맞긴한데 뭘 저렇게 ㅈ같게 제목 뽑냐.      3\n",
       "106867                                홍어1중대 ㅋㅋㅋㅋㅋㅋㅋㅋㅋㅋ 아놔      0\n",
       "105703  오빠란 작자가 개미친새끼네 ㅋㅋㅋㅋㅋ동성애가 좆같은건 당연하지만 그렇다고 사람을 저...      5\n",
       "102998            근데 쌍도애들 인터넷에선 표준어 코스프레 존나 열심히 하잖아 ㅋㅋㅋㅋㅋ      0\n",
       "37630                                       흑기사는 함 ㅋㅋㅋㅋㅋㅋ      7\n",
       "...                                                   ...    ...\n",
       "106939                                         똥꼬충이노ㅋㅋㅋㅋㅋ      5\n",
       "89588      누가 믿냐 멍청이들앜ㅋㅋㅋㅋㅋㅋ니들 협박했다는 음성도 있다매?그럼 답 나온거 아냐?      7\n",
       "31044           왜 쇼통령인데 못할게 뭐냐 ㅋㅋㅋㅋㅋㅋㅋㅋ 무튼 문슬람들 ㅋㅋㅋㅋㅋㅋㅋㅋㅋ      2\n",
       "6866            저년은 그냥 집안이 좋은거지 연예인도아닌게 자꾸 방송인코스프레함 ㅋㅋㅋㅋㅋ      3\n",
       "105527                                     둘다 병신같네 ㅋㅋㅋㅋㅋㅋ      3\n",
       "\n",
       "[2128 rows x 2 columns]"
      ]
     },
     "execution_count": 121,
     "metadata": {},
     "output_type": "execute_result"
    }
   ],
   "source": [
    "train_dataset[train_dataset.document.str.contains('ㅋㅋㅋㅋㅋ')]"
   ]
  },
  {
   "cell_type": "code",
   "execution_count": 122,
   "metadata": {},
   "outputs": [
    {
     "data": {
      "text/plain": [
       "array([0, 7, 4, 6, 3, 5, 1, 2])"
      ]
     },
     "execution_count": 122,
     "metadata": {},
     "output_type": "execute_result"
    }
   ],
   "source": [
    "train_dataset.label.unique()"
   ]
  },
  {
   "cell_type": "markdown",
   "metadata": {},
   "source": [
    "## 모델 추론 테스트"
   ]
  },
  {
   "cell_type": "code",
   "execution_count": 128,
   "metadata": {},
   "outputs": [],
   "source": [
    "import os\n",
    "import pandas as pd\n",
    "\n",
    "import torch\n",
    "from torch.utils.data import Dataset, DataLoader, TensorDataset\n",
    "from torch.optim.lr_scheduler import ExponentialLR\n",
    "\n",
    "from pytorch_lightning import LightningModule\n",
    "\n",
    "from transformers import AutoModelForSequenceClassification, AutoTokenizer, AdamW, logging\n",
    "\n",
    "from sklearn.metrics import accuracy_score, f1_score\n",
    "\n",
    "import re\n",
    "import emoji\n",
    "from soynlp.normalizer import repeat_normalize\n",
    "\n",
    "\n",
    "os.environ[\"TOKENIZERS_PARALLELISM\"] = \"false\"\n",
    "logging.set_verbosity_error()\n",
    "\n",
    "\n",
    "class FrownSentenceClassifier(LightningModule):\n",
    "    def __init__(self, **kwargs):\n",
    "        super().__init__()\n",
    "        self.save_hyperparameters() # 이 부분에서 self.hparams에 위 kwargs가 저장된다.\n",
    "        self.clsfier = AutoModelForSequenceClassification.from_pretrained(self.hparams.pretrained_model, num_labels=self.hparams.num_labels)\n",
    "        self.tokenizer = AutoTokenizer.from_pretrained(\n",
    "            self.hparams.pretrained_tokenizer\n",
    "            if self.hparams.pretrained_tokenizer\n",
    "            else self.hparams.pretrained_model\n",
    "        )\n",
    "\n",
    "    def forward(self, **kwargs):\n",
    "        return self.clsfier(**kwargs)\n",
    "\n",
    "    def step(self, batch, batch_idx):\n",
    "        data, labels = batch\n",
    "        output = self(input_ids=data, labels=labels)\n",
    "\n",
    "        # Transformers 4.0.0+\n",
    "        loss = output.loss\n",
    "        logits = output.logits\n",
    "\n",
    "        preds = logits.argmax(dim=-1)\n",
    "\n",
    "        y_true = list(labels.cpu().numpy())\n",
    "        y_pred = list(preds.cpu().numpy())\n",
    "\n",
    "        return {\n",
    "            'loss': loss,\n",
    "            'y_true': y_true,\n",
    "            'y_pred': y_pred,\n",
    "        }\n",
    "\n",
    "    def training_step(self, batch, batch_idx):\n",
    "        return self.step(batch, batch_idx)\n",
    "\n",
    "    def validation_step(self, batch, batch_idx):\n",
    "        return self.step(batch, batch_idx)\n",
    "    \n",
    "    def test_step(self, batch, batch_idx):\n",
    "        return self.step(batch, batch_idx)\n",
    "\n",
    "    def epoch_end(self, outputs, state='train'):\n",
    "        loss = torch.tensor(0, dtype=torch.float)\n",
    "        for i in outputs:\n",
    "            loss += i['loss'].cpu().detach()\n",
    "        loss = loss / len(outputs)\n",
    "\n",
    "        y_true = []\n",
    "        y_pred = []\n",
    "        for i in outputs:\n",
    "            y_true += i['y_true']\n",
    "            y_pred += i['y_pred']\n",
    "        \n",
    "        acc = accuracy_score(y_true, y_pred)\n",
    "        micro_f1 = f1_score(y_true, y_pred, average='micro')\n",
    "        macro_f1 = f1_score(y_true, y_pred, average='macro')\n",
    "\n",
    "        self.log(state+'_loss', float(loss), on_epoch=True, prog_bar=True)\n",
    "        self.log(state+'_acc', acc, on_epoch=True, prog_bar=True)\n",
    "        self.log(state+'_micro_f1', micro_f1, on_epoch=True, prog_bar=True)\n",
    "        self.log(state+'_macro_f1', macro_f1, on_epoch=True, prog_bar=True)\n",
    "        print(f'[Epoch {self.trainer.current_epoch} {state.upper()}] Loss: {loss}, Acc: {acc}, microF1: {micro_f1}, macroF1: {macro_f1}\\n')\n",
    "        return {'loss': loss}\n",
    "    \n",
    "    def training_epoch_end(self, outputs):\n",
    "        self.epoch_end(outputs, state='train')\n",
    "\n",
    "    def validation_epoch_end(self, outputs):\n",
    "        self.epoch_end(outputs, state='val')\n",
    "        \n",
    "    def test_epoch_end(self, outputs):\n",
    "        self.epoch_end(outputs, state='test')\n",
    "\n",
    "    def configure_optimizers(self):\n",
    "        if self.hparams.optimizer == 'AdamW':\n",
    "            optimizer = AdamW(self.parameters(), lr=self.hparams.lr)\n",
    "        elif self.hparams.optimizer == 'AdamP':\n",
    "            from adamp import AdamP\n",
    "            optimizer = AdamP(self.parameters(), lr=self.hparams.lr)\n",
    "        else:\n",
    "            raise NotImplementedError('Only AdamW and AdamP is Supported!')\n",
    "        if self.hparams.lr_scheduler == 'cos':\n",
    "            scheduler = CosineAnnealingWarmRestarts(optimizer, T_0=1, T_mult=2)\n",
    "        elif self.hparams.lr_scheduler == 'exp':\n",
    "            scheduler = ExponentialLR(optimizer, gamma=0.5)\n",
    "        else:\n",
    "            raise NotImplementedError('Only cos and exp lr scheduler is Supported!')\n",
    "        return {\n",
    "            'optimizer': optimizer,\n",
    "            'scheduler': scheduler,\n",
    "        }\n",
    "\n",
    "    def read_data(self, path):\n",
    "        if path.endswith('xlsx'):\n",
    "            return pd.read_excel(path)\n",
    "        elif path.endswith('csv'):\n",
    "            return pd.read_csv(path)\n",
    "        elif path.endswith('tsv') or path.endswith('txt'):\n",
    "            return pd.read_csv(path, sep='\\t')\n",
    "        else:\n",
    "            raise NotImplementedError('Only Excel(xlsx)/Csv/Tsv(txt) are Supported')\n",
    "\n",
    "    def clean(self, x):\n",
    "        pattern = re.compile(f'[^ .,?!/@$%~％·∼()\\x00-\\x7Fㄱ-ㅣ가-힣]+')\n",
    "        url_pattern = re.compile(\n",
    "            r'https?:\\/\\/(www\\.)?[-a-zA-Z0-9@:%._\\+~#=]{1,256}\\.[a-zA-Z0-9()]{1,6}\\b([-a-zA-Z0-9()@:%_\\+.~#?&//=]*)')\n",
    "        x = pattern.sub(' ', x)\n",
    "        x = emoji.replace_emoji(x, replace='') #emoji 삭제\n",
    "        x = url_pattern.sub('', x)\n",
    "        x = x.strip()\n",
    "        x = repeat_normalize(x, num_repeats=2)\n",
    "        return x\n",
    "\n",
    "    def encode(self, x, **kwargs):\n",
    "        return self.tokenizer.encode(\n",
    "            self.clean(str(x)),\n",
    "            padding='max_length',\n",
    "            max_length=self.hparams.max_length,\n",
    "            truncation=True,\n",
    "            **kwargs,\n",
    "        )\n",
    "\n",
    "    def preprocess_dataframe(self, df):\n",
    "        df['document'] = df['document'].map(self.encode)\n",
    "        return df\n",
    "\n",
    "    def dataloader(self, path, shuffle=False):\n",
    "        df = self.read_data(path)\n",
    "        df = self.preprocess_dataframe(df)\n",
    "\n",
    "        dataset = TensorDataset(\n",
    "            torch.tensor(df['document'].to_list(), dtype=torch.long),\n",
    "            torch.tensor(df['label'].to_list(), dtype=torch.long),\n",
    "        )\n",
    "        return DataLoader(\n",
    "            dataset,\n",
    "            batch_size=self.hparams.batch_size * 1 if not self.hparams.tpu_cores else self.hparams.tpu_cores,\n",
    "            shuffle=shuffle,\n",
    "            num_workers=self.hparams.cpu_workers,\n",
    "        )\n",
    "\n",
    "    def train_dataloader(self):\n",
    "        return self.dataloader(self.hparams.train_data_path, shuffle=True)\n",
    "\n",
    "    def val_dataloader(self):\n",
    "        return self.dataloader(self.hparams.val_data_path, shuffle=False)\n",
    "    \n",
    "    def test_dataloader(self):\n",
    "        return self.dataloader(self.hparams.test_data_path, shuffle=False)\n"
   ]
  },
  {
   "cell_type": "code",
   "execution_count": 181,
   "metadata": {},
   "outputs": [
    {
     "name": "stdout",
     "output_type": "stream",
     "text": [
      "\"batch_size\":           128\n",
      "\"cpu_workers\":          4\n",
      "\"epochs\":               6\n",
      "\"fp16\":                 True\n",
      "\"gpu\":                  0\n",
      "\"lr\":                   5e-06\n",
      "\"lr_scheduler\":         exp\n",
      "\"max_length\":           60\n",
      "\"num_labels\":           8\n",
      "\"optimizer\":            AdamW\n",
      "\"pretrained_model\":     beomi/KcELECTRA-base-v2022\n",
      "\"pretrained_tokenizer\": beomi/KcELECTRA-base-v2022\n",
      "\"random_seed\":          1031\n",
      "\"test_data_path\":       data/preprocess/fsc-test-v2.csv\n",
      "\"test_mode\":            False\n",
      "\"tpu_cores\":            0\n",
      "\"train_data_path\":      data/preprocess/fsc-train-v2.csv\n",
      "\"val_data_path\":        data/preprocess/fsc-val-v2.csv\n",
      "PreTrainedTokenizerFast(name_or_path='beomi/KcELECTRA-base-v2022', vocab_size=54343, model_max_len=512, is_fast=True, padding_side='right', truncation_side='right', special_tokens={'unk_token': '[UNK]', 'sep_token': '[SEP]', 'pad_token': '[PAD]', 'cls_token': '[CLS]', 'mask_token': '[MASK]'})\n"
     ]
    }
   ],
   "source": [
    "import time\n",
    "import torch\n",
    "import pandas as pd\n",
    "import re\n",
    "import emoji\n",
    "from soynlp.normalizer import repeat_normalize\n",
    "\n",
    "\n",
    "def clean(text):\n",
    "    pattern = re.compile(f'[^ .,?!/@$%~％·∼()\\x00-\\x7Fㄱ-ㅣ가-힣]+')\n",
    "    url_pattern = re.compile(\n",
    "        r'https?:\\/\\/(www\\.)?[-a-zA-Z0-9@:%._\\+~#=]{1,256}\\.[a-zA-Z0-9()]{1,6}\\b([-a-zA-Z0-9()@:%_\\+.~#?&//=]*)')\n",
    "    text = pattern.sub(' ', text)\n",
    "    text = emoji.replace_emoji(text, replace='') #emoji 삭제\n",
    "    text = url_pattern.sub('', text)\n",
    "    text = text.strip()\n",
    "    text = repeat_normalize(text, num_repeats=2)\n",
    "    \n",
    "    return text\n",
    "\n",
    "def infer(text):\n",
    "    label2kor = {0: '출신차별',\n",
    "            1: '외모차별',\n",
    "            2: '정치성향차별',\n",
    "            3: '혐오욕설',\n",
    "            4: '연령차별',\n",
    "            5: '성/가족차별',\n",
    "            6: '종교차별',\n",
    "            7: '해당사항없음'\n",
    "            }\n",
    "    \n",
    "    label2en = {0: 'Origin',\n",
    "            1: 'Physical',\n",
    "            2: 'Politics',\n",
    "            3: 'Profanity',\n",
    "            4: 'Age',\n",
    "            5: 'Gender/Family',\n",
    "            6: 'Religion',\n",
    "            7: 'Not Hate Speech'\n",
    "            }\n",
    "    \n",
    "    global model\n",
    "    text = clean(text)\n",
    "    \n",
    "    infer_stime = time.time()\n",
    "    tokens = model.tokenizer(text, return_tensors='pt')\n",
    "    # print(len(tokens['input_ids'][0]))\n",
    "    logits = model(**tokens).logits\n",
    "    infer_etime = time.time()\n",
    "    preds = torch.softmax(logits, dim=-1).detach().cpu().numpy()\n",
    "    labels = [label for label in label2kor.values()]\n",
    "    df = pd.DataFrame({'Label': labels, 'Probability': preds.reshape(-1,)})\n",
    "    # print(f'inference elapsed time: {infer_etime - infer_stime:.3f}s')\n",
    "    \n",
    "    return df\n",
    "    \n",
    "\n",
    "\n",
    "args = {\n",
    "    'ckpt_path': '/Users/limkaram/PersonalSpace/frown-sentence-classifier/temp/epoch4-val_loss0.3918-val_micro_f10.8594-val_macro_f10.8337-val_acc0.8594.ckpt'\n",
    "    # 'device': torch.device('cuda:0') if torch.cuda.is_available() else torch.device('cpu')\n",
    "    # 'device': torch.device('cpu')\n",
    "}\n",
    "# device = args['device']\n",
    "# print(f'set device: {device}')\n",
    "model = FrownSentenceClassifier.load_from_checkpoint(args['ckpt_path'])\n",
    "model.freeze()\n",
    "model.eval()\n",
    "print(model.hparams)\n",
    "print(model.tokenizer)\n",
    "    "
   ]
  },
  {
   "cell_type": "code",
   "execution_count": 167,
   "metadata": {},
   "outputs": [
    {
     "name": "stdout",
     "output_type": "stream",
     "text": [
      "노인들은 아무 일자리 마다않고 젎은사람들은 종더 나은직장 고를라다 그리됀겨\n",
      "input text: 생긴건 라티노인데 무슨 아시아?\n",
      "inference elapsed time: 0.079s\n",
      "생긴건 라티노인데 무슨 아시아?\n",
      "input text: 저게 얼굴이냐 존못\n",
      "inference elapsed time: 0.057s\n",
      "저게 얼굴이냐 존못\n",
      "input text: 민주당이 망하려고 별일을 다 벌이는군..\n",
      "inference elapsed time: 0.071s\n",
      "민주당이 망하려고 별일을 다 벌이는군..\n",
      "input text: ㅇㅇ 기존의 제도를 무너뜨리는게 민좆당에게 나쁠건 없지\n",
      "inference elapsed time: 0.074s\n",
      "ㅇㅇ 기존의 제도를 무너뜨리는게 민좆당에게 나쁠건 없지\n",
      "input text: 찐따한테 극찬하는 틀딱 환상의 콜라보 ㅋㅋ\n",
      "inference elapsed time: 0.065s\n",
      "찐따한테 극찬하는 틀딱 환상의 콜라보 ㅋㅋ\n",
      "input text: 남자들은도둑이네\n",
      "inference elapsed time: 0.049s\n",
      "남자들은도둑이네\n",
      "input text: 기독교 ㅈ같아서 지지함 ㅅㄱ\n",
      "inference elapsed time: 0.063s\n",
      "기독교 ㅈ같아서 지지함 ㅅㄱ\n",
      "input text: 왜 항상 모든게불편하신분들은 한국 여성이 저리 피해를 당했는데아갈딱 하고 계신건지....\n",
      "inference elapsed time: 0.104s\n"
     ]
    }
   ],
   "source": [
    "text_list = []\n",
    "results = []\n",
    "\n",
    "for c in range(0, 8):\n",
    "    print(text)\n",
    "    text = df.loc[df['label'] == c, 'document'].sample(1).iloc[0]\n",
    "    text_list.append(text)\n",
    "    result_df = infer(text)\n",
    "    results.append(result_df)"
   ]
  },
  {
   "cell_type": "code",
   "execution_count": 176,
   "metadata": {},
   "outputs": [
    {
     "ename": "IndexError",
     "evalue": "list index out of range",
     "output_type": "error",
     "traceback": [
      "\u001b[0;31m---------------------------------------------------------------------------\u001b[0m",
      "\u001b[0;31mIndexError\u001b[0m                                Traceback (most recent call last)",
      "Cell \u001b[0;32mIn[176], line 2\u001b[0m\n\u001b[1;32m      1\u001b[0m idx \u001b[39m=\u001b[39m \u001b[39m8\u001b[39m\n\u001b[0;32m----> 2\u001b[0m \u001b[39mprint\u001b[39m(text_list[idx])\n\u001b[1;32m      3\u001b[0m ret \u001b[39m=\u001b[39m results[idx]\n\u001b[1;32m      4\u001b[0m ret[\u001b[39m'\u001b[39m\u001b[39mLabel\u001b[39m\u001b[39m'\u001b[39m] \u001b[39m=\u001b[39m ret[\u001b[39m'\u001b[39m\u001b[39mLabel\u001b[39m\u001b[39m'\u001b[39m]\u001b[39m.\u001b[39mstr\u001b[39m.\u001b[39mreplace(\u001b[39m'\u001b[39m\u001b[39m차별\u001b[39m\u001b[39m'\u001b[39m, \u001b[39m'\u001b[39m\u001b[39m'\u001b[39m)\n",
      "\u001b[0;31mIndexError\u001b[0m: list index out of range"
     ]
    }
   ],
   "source": [
    "idx = 0\n",
    "print(text_list[idx])\n",
    "ret = results[idx]\n",
    "ret['Label'] = ret['Label'].str.replace('차별', '')\n",
    "ret"
   ]
  },
  {
   "cell_type": "code",
   "execution_count": 187,
   "metadata": {},
   "outputs": [
    {
     "name": "stdout",
     "output_type": "stream",
     "text": [
      "개같이생겼네.\n"
     ]
    },
    {
     "data": {
      "text/html": [
       "<div>\n",
       "<style scoped>\n",
       "    .dataframe tbody tr th:only-of-type {\n",
       "        vertical-align: middle;\n",
       "    }\n",
       "\n",
       "    .dataframe tbody tr th {\n",
       "        vertical-align: top;\n",
       "    }\n",
       "\n",
       "    .dataframe thead th {\n",
       "        text-align: right;\n",
       "    }\n",
       "</style>\n",
       "<table border=\"1\" class=\"dataframe\">\n",
       "  <thead>\n",
       "    <tr style=\"text-align: right;\">\n",
       "      <th></th>\n",
       "      <th>Label</th>\n",
       "      <th>Probability</th>\n",
       "    </tr>\n",
       "  </thead>\n",
       "  <tbody>\n",
       "    <tr>\n",
       "      <th>0</th>\n",
       "      <td>출신</td>\n",
       "      <td>0.041823</td>\n",
       "    </tr>\n",
       "    <tr>\n",
       "      <th>1</th>\n",
       "      <td>외모</td>\n",
       "      <td>0.627756</td>\n",
       "    </tr>\n",
       "    <tr>\n",
       "      <th>2</th>\n",
       "      <td>정치성향</td>\n",
       "      <td>0.015943</td>\n",
       "    </tr>\n",
       "    <tr>\n",
       "      <th>3</th>\n",
       "      <td>혐오욕설</td>\n",
       "      <td>0.204459</td>\n",
       "    </tr>\n",
       "    <tr>\n",
       "      <th>4</th>\n",
       "      <td>연령</td>\n",
       "      <td>0.030013</td>\n",
       "    </tr>\n",
       "    <tr>\n",
       "      <th>5</th>\n",
       "      <td>성/가족</td>\n",
       "      <td>0.035755</td>\n",
       "    </tr>\n",
       "    <tr>\n",
       "      <th>6</th>\n",
       "      <td>종교</td>\n",
       "      <td>0.015155</td>\n",
       "    </tr>\n",
       "    <tr>\n",
       "      <th>7</th>\n",
       "      <td>해당사항없음</td>\n",
       "      <td>0.029096</td>\n",
       "    </tr>\n",
       "  </tbody>\n",
       "</table>\n",
       "</div>"
      ],
      "text/plain": [
       "    Label  Probability\n",
       "0      출신     0.041823\n",
       "1      외모     0.627756\n",
       "2    정치성향     0.015943\n",
       "3    혐오욕설     0.204459\n",
       "4      연령     0.030013\n",
       "5    성/가족     0.035755\n",
       "6      종교     0.015155\n",
       "7  해당사항없음     0.029096"
      ]
     },
     "execution_count": 187,
     "metadata": {},
     "output_type": "execute_result"
    }
   ],
   "source": [
    "text = '개같이생겼네.'\n",
    "print(text)\n",
    "result_df = infer(text)\n",
    "result_df['Label'] = result_df['Label'].str.replace('차별', '')\n",
    "result_df"
   ]
  },
  {
   "cell_type": "code",
   "execution_count": 140,
   "metadata": {},
   "outputs": [],
   "source": [
    "result_df['Probability'] = result_df['Probability'] * 100\n",
    "result_df['Label'] = result_df['Label'].str.replace('차별', '')"
   ]
  },
  {
   "cell_type": "code",
   "execution_count": 141,
   "metadata": {},
   "outputs": [
    {
     "data": {
      "text/html": [
       "<div>\n",
       "<style scoped>\n",
       "    .dataframe tbody tr th:only-of-type {\n",
       "        vertical-align: middle;\n",
       "    }\n",
       "\n",
       "    .dataframe tbody tr th {\n",
       "        vertical-align: top;\n",
       "    }\n",
       "\n",
       "    .dataframe thead th {\n",
       "        text-align: right;\n",
       "    }\n",
       "</style>\n",
       "<table border=\"1\" class=\"dataframe\">\n",
       "  <thead>\n",
       "    <tr style=\"text-align: right;\">\n",
       "      <th></th>\n",
       "      <th>Label</th>\n",
       "      <th>Probability</th>\n",
       "    </tr>\n",
       "  </thead>\n",
       "  <tbody>\n",
       "    <tr>\n",
       "      <th>0</th>\n",
       "      <td>출신</td>\n",
       "      <td>2.311070</td>\n",
       "    </tr>\n",
       "    <tr>\n",
       "      <th>1</th>\n",
       "      <td>외모</td>\n",
       "      <td>0.488449</td>\n",
       "    </tr>\n",
       "    <tr>\n",
       "      <th>2</th>\n",
       "      <td>정치성향</td>\n",
       "      <td>41.796913</td>\n",
       "    </tr>\n",
       "    <tr>\n",
       "      <th>3</th>\n",
       "      <td>혐오욕설</td>\n",
       "      <td>13.640198</td>\n",
       "    </tr>\n",
       "    <tr>\n",
       "      <th>4</th>\n",
       "      <td>연령</td>\n",
       "      <td>0.610023</td>\n",
       "    </tr>\n",
       "    <tr>\n",
       "      <th>5</th>\n",
       "      <td>성/가족</td>\n",
       "      <td>0.505398</td>\n",
       "    </tr>\n",
       "    <tr>\n",
       "      <th>6</th>\n",
       "      <td>종교</td>\n",
       "      <td>0.589167</td>\n",
       "    </tr>\n",
       "    <tr>\n",
       "      <th>7</th>\n",
       "      <td>해당사항없음</td>\n",
       "      <td>40.058784</td>\n",
       "    </tr>\n",
       "  </tbody>\n",
       "</table>\n",
       "</div>"
      ],
      "text/plain": [
       "    Label  Probability\n",
       "0      출신     2.311070\n",
       "1      외모     0.488449\n",
       "2    정치성향    41.796913\n",
       "3    혐오욕설    13.640198\n",
       "4      연령     0.610023\n",
       "5    성/가족     0.505398\n",
       "6      종교     0.589167\n",
       "7  해당사항없음    40.058784"
      ]
     },
     "execution_count": 141,
     "metadata": {},
     "output_type": "execute_result"
    }
   ],
   "source": [
    "result_df"
   ]
  },
  {
   "attachments": {},
   "cell_type": "markdown",
   "metadata": {},
   "source": [
    "# Multi-Label Classification 데이터 전처리"
   ]
  },
  {
   "attachments": {},
   "cell_type": "markdown",
   "metadata": {},
   "source": [
    "## K-MHaS 데이터 전처리"
   ]
  },
  {
   "cell_type": "code",
   "execution_count": 3,
   "metadata": {},
   "outputs": [],
   "source": [
    "import os.path\n",
    "from pathlib import Path\n",
    "from glob import glob\n",
    "\n",
    "import pandas as pd\n",
    "import numpy as np\n",
    "import matplotlib.pyplot as plt\n",
    "import seaborn as sns"
   ]
  },
  {
   "cell_type": "code",
   "execution_count": 4,
   "metadata": {},
   "outputs": [],
   "source": [
    "data_root_path = '/Users/limkaram/PersonalSpace/korean-frown-sentence-classifier/data/origin/K-MHaS-main/data'"
   ]
  },
  {
   "cell_type": "code",
   "execution_count": 22,
   "metadata": {},
   "outputs": [],
   "source": [
    "df = pd.DataFrame()\n",
    "\n",
    "for path in glob(os.path.join(data_root_path, '*.txt')):\n",
    "    df = pd.concat([df, pd.read_table(path)])"
   ]
  },
  {
   "cell_type": "code",
   "execution_count": 14,
   "metadata": {},
   "outputs": [
    {
     "name": "stdout",
     "output_type": "stream",
     "text": [
      "0,1,8\n",
      "0\n",
      "0,1,8\n"
     ]
    }
   ],
   "source": [
    "# 인종차별(6) -> 출신차별(0)\n",
    "def race2origin(x):\n",
    "    if x == '6':\n",
    "        return '0'\n",
    "    \n",
    "    labels = x.split(',')\n",
    "    \n",
    "    if '6' in labels:\n",
    "        labels[labels.index('6')] = '0'\n",
    "        labels = list(set(labels))\n",
    "        labels = sorted(labels)\n",
    "        labels = ','.join(labels)\n",
    "        \n",
    "        return labels\n",
    "    \n",
    "    return x\n",
    "\n",
    "print(race2origin('0,1,6,8'))\n",
    "print(race2origin('6'))\n",
    "print(race2origin('0,1,8'))"
   ]
  },
  {
   "cell_type": "code",
   "execution_count": 16,
   "metadata": {},
   "outputs": [
    {
     "name": "stdout",
     "output_type": "stream",
     "text": [
      "6,7\n",
      "6\n",
      "7\n",
      "0,1,6,7\n",
      "0,1,7\n"
     ]
    }
   ],
   "source": [
    "# 종교차별(7), 해당사항없음(8) -> 종교차별(6), 해당사항없음(7)\n",
    "def pull_index(x):\n",
    "    if '7' in x:\n",
    "        x = x.replace('7', '6')\n",
    "    \n",
    "    if '8' in x:\n",
    "        x = x.replace('8', '7')\n",
    "    \n",
    "    return x\n",
    "    \n",
    "print(pull_index('7,8'))\n",
    "print(pull_index('7'))\n",
    "print(pull_index('8'))\n",
    "print(pull_index('0,1,7,8'))\n",
    "print(pull_index('0,1,8'))"
   ]
  },
  {
   "cell_type": "code",
   "execution_count": 27,
   "metadata": {},
   "outputs": [],
   "source": [
    "df['label'] = df.label.apply(race2origin)\n",
    "df['label'] = df['label'].apply(pull_index)"
   ]
  },
  {
   "attachments": {},
   "cell_type": "markdown",
   "metadata": {},
   "source": [
    "- 출신차별, Origin(0)\n",
    "- 외모차별, Physical(1)\n",
    "- 정치성향차별, Politics(2)\n",
    "- 혐오욕설, Profanity(3)\n",
    "- 연령차별, Age(4)\n",
    "- 성차별, Gender(5)\n",
    "- 종교차별, Religion(6)\n",
    "- 해당사항없음, Not Hate Speech(7)"
   ]
  },
  {
   "cell_type": "code",
   "execution_count": 33,
   "metadata": {},
   "outputs": [
    {
     "name": "stdout",
     "output_type": "stream",
     "text": [
      "label 0: 10495개\n",
      "label 1: 8807개\n",
      "label 2: 11892개\n",
      "label 3: 16304개\n",
      "label 4: 7370개\n",
      "label 5: 8044개\n",
      "label 6: 2375개\n",
      "label 7: 59615개\n"
     ]
    }
   ],
   "source": [
    "for i in range(8):\n",
    "    label_num = df.label.str.contains(str(i)).sum()\n",
    "    print(f'label {i}: {label_num}개')"
   ]
  },
  {
   "cell_type": "code",
   "execution_count": 34,
   "metadata": {},
   "outputs": [],
   "source": [
    "df.to_csv('/Users/limkaram/PersonalSpace/korean-frown-sentence-classifier/data/origin/K-MHaS-main/data/kmhas_merge.csv', index=False)"
   ]
  },
  {
   "cell_type": "code",
   "execution_count": 35,
   "metadata": {},
   "outputs": [
    {
     "data": {
      "text/html": [
       "<div>\n",
       "<style scoped>\n",
       "    .dataframe tbody tr th:only-of-type {\n",
       "        vertical-align: middle;\n",
       "    }\n",
       "\n",
       "    .dataframe tbody tr th {\n",
       "        vertical-align: top;\n",
       "    }\n",
       "\n",
       "    .dataframe thead th {\n",
       "        text-align: right;\n",
       "    }\n",
       "</style>\n",
       "<table border=\"1\" class=\"dataframe\">\n",
       "  <thead>\n",
       "    <tr style=\"text-align: right;\">\n",
       "      <th></th>\n",
       "      <th>document</th>\n",
       "      <th>label</th>\n",
       "    </tr>\n",
       "  </thead>\n",
       "  <tbody>\n",
       "    <tr>\n",
       "      <th>0</th>\n",
       "      <td>서로만이 이렇게 있을때 보기 좋다♥</td>\n",
       "      <td>7</td>\n",
       "    </tr>\n",
       "    <tr>\n",
       "      <th>1</th>\n",
       "      <td>승호 키스신에 누나는 웁니다..흑흑..너무 찐하쟈너..무방비상태였는데 충격먹음..손...</td>\n",
       "      <td>7</td>\n",
       "    </tr>\n",
       "    <tr>\n",
       "      <th>2</th>\n",
       "      <td>미친돼지새끼 육갑떠네 ㅡㅡ</td>\n",
       "      <td>1,3</td>\n",
       "    </tr>\n",
       "    <tr>\n",
       "      <th>3</th>\n",
       "      <td>전광훈이 교주 됐네 ㅋㅋㅋ 애라이 새꺄 니가 목사면 박쥐가 독수리다 임마</td>\n",
       "      <td>3</td>\n",
       "    </tr>\n",
       "    <tr>\n",
       "      <th>4</th>\n",
       "      <td>인덕션 꾹 누를때 기절하는줄ㅋㅋㅋ 아재개그통한다</td>\n",
       "      <td>7</td>\n",
       "    </tr>\n",
       "  </tbody>\n",
       "</table>\n",
       "</div>"
      ],
      "text/plain": [
       "                                            document label\n",
       "0                                서로만이 이렇게 있을때 보기 좋다♥     7\n",
       "1  승호 키스신에 누나는 웁니다..흑흑..너무 찐하쟈너..무방비상태였는데 충격먹음..손...     7\n",
       "2                                     미친돼지새끼 육갑떠네 ㅡㅡ   1,3\n",
       "3           전광훈이 교주 됐네 ㅋㅋㅋ 애라이 새꺄 니가 목사면 박쥐가 독수리다 임마     3\n",
       "4                         인덕션 꾹 누를때 기절하는줄ㅋㅋㅋ 아재개그통한다     7"
      ]
     },
     "execution_count": 35,
     "metadata": {},
     "output_type": "execute_result"
    }
   ],
   "source": [
    "df.head()"
   ]
  },
  {
   "attachments": {},
   "cell_type": "markdown",
   "metadata": {},
   "source": [
    "## UnSmile 데이터셋 전처리"
   ]
  },
  {
   "cell_type": "code",
   "execution_count": 90,
   "metadata": {},
   "outputs": [],
   "source": [
    "data_root_path = '/Users/limkaram/PersonalSpace/korean-frown-sentence-classifier/data/origin/korean_unsmile_dataset-main'"
   ]
  },
  {
   "cell_type": "code",
   "execution_count": 91,
   "metadata": {},
   "outputs": [],
   "source": [
    "df = pd.DataFrame()\n",
    "\n",
    "for path in glob(os.path.join(data_root_path, '*.tsv')):\n",
    "    df = pd.concat([df, pd.read_csv(path, delimiter='\\t')])\n",
    "    \n",
    "df = df.reset_index(drop=True)"
   ]
  },
  {
   "cell_type": "code",
   "execution_count": 92,
   "metadata": {},
   "outputs": [],
   "source": [
    "# 여성/가족, 남성, 성소수자 -> 성차별(5)\n",
    "# 인종/국적, 지역 -> 출신차별(0)\n",
    "# 연령 -> 연령차별(4)\n",
    "# 종교 -> 종교차별(6)\n",
    "# 기타 혐오, 악플/욕설 -> 혐오욕설(3)\n",
    "# clean -> 해당사항없음(7)\n",
    "# 개인지칭 -> 미사용\n",
    "\n",
    "df = df.drop(columns='개인지칭')  # 미사용 개인지칭 제거\n",
    "\n",
    "for idx, row in df.iterrows():\n",
    "    labels = []\n",
    "    \n",
    "    if any((row['여성/가족'], row['남성'], row['성소수자'])):\n",
    "        labels.append(5)\n",
    "    \n",
    "    if any((row['인종/국적'], row['지역'])):\n",
    "        labels.append(0)\n",
    "    \n",
    "    if row['연령']:\n",
    "        labels.append(4)\n",
    "    \n",
    "    if row['종교']:\n",
    "        labels.append(6)\n",
    "    \n",
    "    if any((row['기타 혐오'], row['악플/욕설'])):\n",
    "        labels.append(3)\n",
    "    \n",
    "    if row['clean']:\n",
    "        labels.append(7)\n",
    "        \n",
    "    labels = sorted(labels)\n",
    "    labels = list(map(str, labels))\n",
    "    labels = ','.join(labels)\n",
    "    \n",
    "    df.loc[idx, 'label'] = labels"
   ]
  },
  {
   "cell_type": "code",
   "execution_count": 93,
   "metadata": {},
   "outputs": [],
   "source": [
    "df = df.drop(df[df.label == ''].index)  # 아무 라벨도 안들어가있는 행 제거"
   ]
  },
  {
   "cell_type": "code",
   "execution_count": 94,
   "metadata": {},
   "outputs": [
    {
     "data": {
      "text/html": [
       "<div>\n",
       "<style scoped>\n",
       "    .dataframe tbody tr th:only-of-type {\n",
       "        vertical-align: middle;\n",
       "    }\n",
       "\n",
       "    .dataframe tbody tr th {\n",
       "        vertical-align: top;\n",
       "    }\n",
       "\n",
       "    .dataframe thead th {\n",
       "        text-align: right;\n",
       "    }\n",
       "</style>\n",
       "<table border=\"1\" class=\"dataframe\">\n",
       "  <thead>\n",
       "    <tr style=\"text-align: right;\">\n",
       "      <th></th>\n",
       "      <th>문장</th>\n",
       "      <th>여성/가족</th>\n",
       "      <th>남성</th>\n",
       "      <th>성소수자</th>\n",
       "      <th>인종/국적</th>\n",
       "      <th>연령</th>\n",
       "      <th>지역</th>\n",
       "      <th>종교</th>\n",
       "      <th>기타 혐오</th>\n",
       "      <th>악플/욕설</th>\n",
       "      <th>clean</th>\n",
       "      <th>label</th>\n",
       "    </tr>\n",
       "  </thead>\n",
       "  <tbody>\n",
       "    <tr>\n",
       "      <th>0</th>\n",
       "      <td>ㅇㄱㄹㅇ 진짜 죽어도 상관없다는 마인드로 싸웠더니 지금 서열 상타취노 식칼들고 니가...</td>\n",
       "      <td>0</td>\n",
       "      <td>1</td>\n",
       "      <td>0</td>\n",
       "      <td>0</td>\n",
       "      <td>0</td>\n",
       "      <td>0</td>\n",
       "      <td>0</td>\n",
       "      <td>0</td>\n",
       "      <td>0</td>\n",
       "      <td>0</td>\n",
       "      <td>5</td>\n",
       "    </tr>\n",
       "    <tr>\n",
       "      <th>1</th>\n",
       "      <td>여자들은 취미가 애낳는건가.. 취미를 좀 가져라</td>\n",
       "      <td>1</td>\n",
       "      <td>0</td>\n",
       "      <td>0</td>\n",
       "      <td>0</td>\n",
       "      <td>0</td>\n",
       "      <td>0</td>\n",
       "      <td>0</td>\n",
       "      <td>0</td>\n",
       "      <td>0</td>\n",
       "      <td>0</td>\n",
       "      <td>5</td>\n",
       "    </tr>\n",
       "    <tr>\n",
       "      <th>2</th>\n",
       "      <td>개슬람녀 다 필요없고 니 엄마만 있으면 된다</td>\n",
       "      <td>0</td>\n",
       "      <td>0</td>\n",
       "      <td>0</td>\n",
       "      <td>1</td>\n",
       "      <td>0</td>\n",
       "      <td>0</td>\n",
       "      <td>1</td>\n",
       "      <td>0</td>\n",
       "      <td>0</td>\n",
       "      <td>0</td>\n",
       "      <td>0,6</td>\n",
       "    </tr>\n",
       "    <tr>\n",
       "      <th>3</th>\n",
       "      <td>조팔ㅋㅋ 남한 길거리 돌아다니면 한국남자때문에 눈재기하는데 그걸 내 폰에 굳이 담아...</td>\n",
       "      <td>0</td>\n",
       "      <td>1</td>\n",
       "      <td>0</td>\n",
       "      <td>0</td>\n",
       "      <td>0</td>\n",
       "      <td>0</td>\n",
       "      <td>0</td>\n",
       "      <td>0</td>\n",
       "      <td>0</td>\n",
       "      <td>0</td>\n",
       "      <td>5</td>\n",
       "    </tr>\n",
       "    <tr>\n",
       "      <th>4</th>\n",
       "      <td>바지 내리다 한남들 와꾸 보고 올려뿟노</td>\n",
       "      <td>0</td>\n",
       "      <td>1</td>\n",
       "      <td>0</td>\n",
       "      <td>0</td>\n",
       "      <td>0</td>\n",
       "      <td>0</td>\n",
       "      <td>0</td>\n",
       "      <td>0</td>\n",
       "      <td>0</td>\n",
       "      <td>0</td>\n",
       "      <td>5</td>\n",
       "    </tr>\n",
       "  </tbody>\n",
       "</table>\n",
       "</div>"
      ],
      "text/plain": [
       "                                                  문장  여성/가족  남성  성소수자  인종/국적  \\\n",
       "0  ㅇㄱㄹㅇ 진짜 죽어도 상관없다는 마인드로 싸웠더니 지금 서열 상타취노 식칼들고 니가...      0   1     0      0   \n",
       "1                         여자들은 취미가 애낳는건가.. 취미를 좀 가져라      1   0     0      0   \n",
       "2                           개슬람녀 다 필요없고 니 엄마만 있으면 된다      0   0     0      1   \n",
       "3  조팔ㅋㅋ 남한 길거리 돌아다니면 한국남자때문에 눈재기하는데 그걸 내 폰에 굳이 담아...      0   1     0      0   \n",
       "4                              바지 내리다 한남들 와꾸 보고 올려뿟노      0   1     0      0   \n",
       "\n",
       "   연령  지역  종교  기타 혐오  악플/욕설  clean label  \n",
       "0   0   0   0      0      0      0     5  \n",
       "1   0   0   0      0      0      0     5  \n",
       "2   0   0   1      0      0      0   0,6  \n",
       "3   0   0   0      0      0      0     5  \n",
       "4   0   0   0      0      0      0     5  "
      ]
     },
     "execution_count": 94,
     "metadata": {},
     "output_type": "execute_result"
    }
   ],
   "source": [
    "df.head()"
   ]
  },
  {
   "cell_type": "code",
   "execution_count": 96,
   "metadata": {},
   "outputs": [],
   "source": [
    "df = df[['문장', 'label']].rename(columns={'문장': 'document'})"
   ]
  },
  {
   "cell_type": "code",
   "execution_count": 97,
   "metadata": {},
   "outputs": [
    {
     "name": "stdout",
     "output_type": "stream",
     "text": [
      "<class 'pandas.core.frame.DataFrame'>\n",
      "Int64Index: 18740 entries, 0 to 18741\n",
      "Data columns (total 2 columns):\n",
      " #   Column    Non-Null Count  Dtype \n",
      "---  ------    --------------  ----- \n",
      " 0   document  18740 non-null  object\n",
      " 1   label     18740 non-null  object\n",
      "dtypes: object(2)\n",
      "memory usage: 439.2+ KB\n"
     ]
    }
   ],
   "source": [
    "df.info()"
   ]
  },
  {
   "cell_type": "code",
   "execution_count": 98,
   "metadata": {},
   "outputs": [],
   "source": [
    "df.to_csv('/Users/limkaram/PersonalSpace/korean-frown-sentence-classifier/data/origin/korean_unsmile_dataset-main/unsmile_merge.csv', index=False)"
   ]
  },
  {
   "attachments": {},
   "cell_type": "markdown",
   "metadata": {},
   "source": [
    "## HateScore 데이터셋 전처리"
   ]
  },
  {
   "cell_type": "code",
   "execution_count": 120,
   "metadata": {},
   "outputs": [],
   "source": [
    "df = pd.read_csv('/Users/limkaram/PersonalSpace/korean-frown-sentence-classifier/data/origin/HateScore.csv', index_col=0)"
   ]
  },
  {
   "cell_type": "code",
   "execution_count": 121,
   "metadata": {},
   "outputs": [
    {
     "data": {
      "text/html": [
       "<div>\n",
       "<style scoped>\n",
       "    .dataframe tbody tr th:only-of-type {\n",
       "        vertical-align: middle;\n",
       "    }\n",
       "\n",
       "    .dataframe tbody tr th {\n",
       "        vertical-align: top;\n",
       "    }\n",
       "\n",
       "    .dataframe thead th {\n",
       "        text-align: right;\n",
       "    }\n",
       "</style>\n",
       "<table border=\"1\" class=\"dataframe\">\n",
       "  <thead>\n",
       "    <tr style=\"text-align: right;\">\n",
       "      <th></th>\n",
       "      <th>comment</th>\n",
       "      <th>macrolabel</th>\n",
       "      <th>microlabel</th>\n",
       "      <th>source</th>\n",
       "    </tr>\n",
       "  </thead>\n",
       "  <tbody>\n",
       "    <tr>\n",
       "      <th>0</th>\n",
       "      <td>절라남도 벌레?</td>\n",
       "      <td>혐오발언</td>\n",
       "      <td>지역</td>\n",
       "      <td>온라인 댓글</td>\n",
       "    </tr>\n",
       "    <tr>\n",
       "      <th>1</th>\n",
       "      <td>부산에서 학식먹었는데 mt 동기mt 동아리mt 단한번도 해운대 안감 부산 현지인들이...</td>\n",
       "      <td>혐오발언</td>\n",
       "      <td>지역</td>\n",
       "      <td>온라인 댓글</td>\n",
       "    </tr>\n",
       "    <tr>\n",
       "      <th>2</th>\n",
       "      <td>쌍도 여혐끝판왕의성지</td>\n",
       "      <td>혐오발언</td>\n",
       "      <td>지역</td>\n",
       "      <td>온라인 댓글</td>\n",
       "    </tr>\n",
       "    <tr>\n",
       "      <th>3</th>\n",
       "      <td>제목보고 전라도 직감</td>\n",
       "      <td>혐오발언</td>\n",
       "      <td>지역</td>\n",
       "      <td>온라인 댓글</td>\n",
       "    </tr>\n",
       "    <tr>\n",
       "      <th>4</th>\n",
       "      <td>홍어지 병신아 ㅋㅋㅋ</td>\n",
       "      <td>혐오발언</td>\n",
       "      <td>지역</td>\n",
       "      <td>온라인 댓글</td>\n",
       "    </tr>\n",
       "  </tbody>\n",
       "</table>\n",
       "</div>"
      ],
      "text/plain": [
       "                                             comment macrolabel microlabel  \\\n",
       "0                                           절라남도 벌레?       혐오발언         지역   \n",
       "1  부산에서 학식먹었는데 mt 동기mt 동아리mt 단한번도 해운대 안감 부산 현지인들이...       혐오발언         지역   \n",
       "2                                        쌍도 여혐끝판왕의성지       혐오발언         지역   \n",
       "3                                        제목보고 전라도 직감       혐오발언         지역   \n",
       "4                                        홍어지 병신아 ㅋㅋㅋ       혐오발언         지역   \n",
       "\n",
       "   source  \n",
       "0  온라인 댓글  \n",
       "1  온라인 댓글  \n",
       "2  온라인 댓글  \n",
       "3  온라인 댓글  \n",
       "4  온라인 댓글  "
      ]
     },
     "execution_count": 121,
     "metadata": {},
     "output_type": "execute_result"
    }
   ],
   "source": [
    "df.head()"
   ]
  },
  {
   "cell_type": "code",
   "execution_count": 122,
   "metadata": {},
   "outputs": [],
   "source": [
    "df = df[df.source == '온라인 댓글']\n",
    "df = df[df.macrolabel == '혐오발언']"
   ]
  },
  {
   "cell_type": "code",
   "execution_count": 123,
   "metadata": {},
   "outputs": [],
   "source": [
    "# 여성/가족, 남성, 성소수자 -> 성차별(5)\n",
    "# 인종/국적, 지역 -> 출신차별(0)\n",
    "# 연령 -> 연령차별(4)\n",
    "# 종교 -> 종교차별(6)\n",
    "# 기타 혐오, 악플/욕설 -> 혐오욕설(3)\n",
    "\n",
    "df = df.reset_index(drop=True)\n",
    "\n",
    "for idx, row in df.iterrows():\n",
    "    labels = []\n",
    "    label = row['microlabel']\n",
    "    \n",
    "    if ('여성/가족' in label) or ('남성' in label) or ('성소수자' in label):\n",
    "        labels.append(5)\n",
    "        \n",
    "    if ('인종/국적' in label) or ('지역' in label):\n",
    "        labels.append(0)\n",
    "    \n",
    "    if '연령' in label:\n",
    "        labels.append(4)\n",
    "    \n",
    "    if '종교' in label:\n",
    "        labels.append(6)\n",
    "        \n",
    "    if ('기타 혐오' in label) or ('악플/욕설' in label):\n",
    "        labels.append(3)\n",
    "        \n",
    "    labels = sorted(labels)\n",
    "    labels = list(map(str, labels))\n",
    "    labels = ','.join(labels)\n",
    "    \n",
    "    df.loc[idx, 'label'] = labels"
   ]
  },
  {
   "cell_type": "code",
   "execution_count": 124,
   "metadata": {},
   "outputs": [
    {
     "data": {
      "text/plain": [
       "array(['0', '0,6', '6', '0,4', '0,4,6', '4', '0,5', '5,6', '0,4,5', '4,5',\n",
       "       '5', '0,3', '3,4', '3,5', '3'], dtype=object)"
      ]
     },
     "execution_count": 124,
     "metadata": {},
     "output_type": "execute_result"
    }
   ],
   "source": [
    "df.label.unique()"
   ]
  },
  {
   "cell_type": "code",
   "execution_count": 126,
   "metadata": {},
   "outputs": [],
   "source": [
    "df = df[['comment', 'label']].rename(columns={'comment': 'document'})"
   ]
  },
  {
   "cell_type": "code",
   "execution_count": 127,
   "metadata": {},
   "outputs": [
    {
     "data": {
      "text/html": [
       "<div>\n",
       "<style scoped>\n",
       "    .dataframe tbody tr th:only-of-type {\n",
       "        vertical-align: middle;\n",
       "    }\n",
       "\n",
       "    .dataframe tbody tr th {\n",
       "        vertical-align: top;\n",
       "    }\n",
       "\n",
       "    .dataframe thead th {\n",
       "        text-align: right;\n",
       "    }\n",
       "</style>\n",
       "<table border=\"1\" class=\"dataframe\">\n",
       "  <thead>\n",
       "    <tr style=\"text-align: right;\">\n",
       "      <th></th>\n",
       "      <th>document</th>\n",
       "      <th>label</th>\n",
       "    </tr>\n",
       "  </thead>\n",
       "  <tbody>\n",
       "    <tr>\n",
       "      <th>0</th>\n",
       "      <td>절라남도 벌레?</td>\n",
       "      <td>0</td>\n",
       "    </tr>\n",
       "    <tr>\n",
       "      <th>1</th>\n",
       "      <td>부산에서 학식먹었는데 mt 동기mt 동아리mt 단한번도 해운대 안감 부산 현지인들이...</td>\n",
       "      <td>0</td>\n",
       "    </tr>\n",
       "    <tr>\n",
       "      <th>2</th>\n",
       "      <td>쌍도 여혐끝판왕의성지</td>\n",
       "      <td>0</td>\n",
       "    </tr>\n",
       "    <tr>\n",
       "      <th>3</th>\n",
       "      <td>제목보고 전라도 직감</td>\n",
       "      <td>0</td>\n",
       "    </tr>\n",
       "    <tr>\n",
       "      <th>4</th>\n",
       "      <td>홍어지 병신아 ㅋㅋㅋ</td>\n",
       "      <td>0</td>\n",
       "    </tr>\n",
       "  </tbody>\n",
       "</table>\n",
       "</div>"
      ],
      "text/plain": [
       "                                            document label\n",
       "0                                           절라남도 벌레?     0\n",
       "1  부산에서 학식먹었는데 mt 동기mt 동아리mt 단한번도 해운대 안감 부산 현지인들이...     0\n",
       "2                                        쌍도 여혐끝판왕의성지     0\n",
       "3                                        제목보고 전라도 직감     0\n",
       "4                                        홍어지 병신아 ㅋㅋㅋ     0"
      ]
     },
     "execution_count": 127,
     "metadata": {},
     "output_type": "execute_result"
    }
   ],
   "source": [
    "df.head()"
   ]
  },
  {
   "cell_type": "code",
   "execution_count": 129,
   "metadata": {},
   "outputs": [],
   "source": [
    "df.to_csv('/Users/limkaram/PersonalSpace/korean-frown-sentence-classifier/data/origin/hatescore_merge.csv', index=False)"
   ]
  },
  {
   "cell_type": "code",
   "execution_count": 89,
   "metadata": {},
   "outputs": [
    {
     "data": {
      "text/plain": [
       "['온라인 댓글']"
      ]
     },
     "execution_count": 89,
     "metadata": {},
     "output_type": "execute_result"
    }
   ],
   "source": []
  },
  {
   "attachments": {},
   "cell_type": "markdown",
   "metadata": {},
   "source": [
    "## kmhas + unsmile + hatescore 병합"
   ]
  },
  {
   "cell_type": "code",
   "execution_count": 137,
   "metadata": {},
   "outputs": [],
   "source": [
    "data_path_list = ['/Users/limkaram/PersonalSpace/korean-frown-sentence-classifier/data/origin/K-MHaS-main/data/kmhas_merge.csv',\n",
    "                  '/Users/limkaram/PersonalSpace/korean-frown-sentence-classifier/data/origin/korean_unsmile_dataset-main/unsmile_merge.csv',\n",
    "                  '/Users/limkaram/PersonalSpace/korean-frown-sentence-classifier/data/origin/hatescore_merge.csv']"
   ]
  },
  {
   "cell_type": "code",
   "execution_count": 138,
   "metadata": {},
   "outputs": [],
   "source": [
    "df = pd.DataFrame()\n",
    "\n",
    "for path in data_path_list:\n",
    "    df = pd.concat([df, pd.read_csv(path)])\n",
    "    \n",
    "df = df.reset_index(drop=True)"
   ]
  },
  {
   "cell_type": "code",
   "execution_count": 139,
   "metadata": {},
   "outputs": [
    {
     "name": "stdout",
     "output_type": "stream",
     "text": [
      "<class 'pandas.core.frame.DataFrame'>\n",
      "RangeIndex: 129214 entries, 0 to 129213\n",
      "Data columns (total 2 columns):\n",
      " #   Column    Non-Null Count   Dtype \n",
      "---  ------    --------------   ----- \n",
      " 0   document  129214 non-null  object\n",
      " 1   label     129214 non-null  object\n",
      "dtypes: object(2)\n",
      "memory usage: 2.0+ MB\n"
     ]
    }
   ],
   "source": [
    "df.info()"
   ]
  },
  {
   "cell_type": "code",
   "execution_count": 140,
   "metadata": {},
   "outputs": [
    {
     "data": {
      "text/html": [
       "<div>\n",
       "<style scoped>\n",
       "    .dataframe tbody tr th:only-of-type {\n",
       "        vertical-align: middle;\n",
       "    }\n",
       "\n",
       "    .dataframe tbody tr th {\n",
       "        vertical-align: top;\n",
       "    }\n",
       "\n",
       "    .dataframe thead th {\n",
       "        text-align: right;\n",
       "    }\n",
       "</style>\n",
       "<table border=\"1\" class=\"dataframe\">\n",
       "  <thead>\n",
       "    <tr style=\"text-align: right;\">\n",
       "      <th></th>\n",
       "      <th>document</th>\n",
       "      <th>label</th>\n",
       "    </tr>\n",
       "  </thead>\n",
       "  <tbody>\n",
       "    <tr>\n",
       "      <th>13599</th>\n",
       "      <td>지들 아는애나왔다고 우가우가 찐따새끼들 신났네ㅋㅋㅋㅋㅣㅣ</td>\n",
       "      <td>3</td>\n",
       "    </tr>\n",
       "    <tr>\n",
       "      <th>114336</th>\n",
       "      <td>태극기 할배들 차 없다. 면허증도 없다. 기름값 톨비도 없다. 막걸리값 오만원씩 받...</td>\n",
       "      <td>4</td>\n",
       "    </tr>\n",
       "    <tr>\n",
       "      <th>55401</th>\n",
       "      <td>신천지보다 더 악질이 대깨문이다. 암적 존재다.</td>\n",
       "      <td>2,6</td>\n",
       "    </tr>\n",
       "    <tr>\n",
       "      <th>6544</th>\n",
       "      <td>예수가 그렇게 가르치던?</td>\n",
       "      <td>7</td>\n",
       "    </tr>\n",
       "    <tr>\n",
       "      <th>102300</th>\n",
       "      <td>댓글다왜이래요ㅠㅠ</td>\n",
       "      <td>7</td>\n",
       "    </tr>\n",
       "    <tr>\n",
       "      <th>65269</th>\n",
       "      <td>정부가 뭘 덮으려는건지 얘네랑 이전부터 원래 사귀던 이정재랑 그냥 막 던지네..</td>\n",
       "      <td>7</td>\n",
       "    </tr>\n",
       "    <tr>\n",
       "      <th>56871</th>\n",
       "      <td>혜민스님 좋아요!!! 자주 방송에 나와주세요</td>\n",
       "      <td>7</td>\n",
       "    </tr>\n",
       "    <tr>\n",
       "      <th>100402</th>\n",
       "      <td>일부러찌우긴...할일없어 막쳐먹다살찌니까 쪽팔려서 헛소리하네</td>\n",
       "      <td>1,3</td>\n",
       "    </tr>\n",
       "    <tr>\n",
       "      <th>63406</th>\n",
       "      <td>내가 쓴 글로 사진관 ㅈ된거는 표현의 자유! 니네 악플은 고소감! 재밌다ㅎㅎ</td>\n",
       "      <td>7</td>\n",
       "    </tr>\n",
       "    <tr>\n",
       "      <th>50978</th>\n",
       "      <td>홍어들난리낫네 ㅋ</td>\n",
       "      <td>0</td>\n",
       "    </tr>\n",
       "  </tbody>\n",
       "</table>\n",
       "</div>"
      ],
      "text/plain": [
       "                                                 document label\n",
       "13599                     지들 아는애나왔다고 우가우가 찐따새끼들 신났네ㅋㅋㅋㅋㅣㅣ     3\n",
       "114336  태극기 할배들 차 없다. 면허증도 없다. 기름값 톨비도 없다. 막걸리값 오만원씩 받...     4\n",
       "55401                          신천지보다 더 악질이 대깨문이다. 암적 존재다.   2,6\n",
       "6544                                        예수가 그렇게 가르치던?     7\n",
       "102300                                          댓글다왜이래요ㅠㅠ     7\n",
       "65269        정부가 뭘 덮으려는건지 얘네랑 이전부터 원래 사귀던 이정재랑 그냥 막 던지네..     7\n",
       "56871                            혜민스님 좋아요!!! 자주 방송에 나와주세요     7\n",
       "100402                  일부러찌우긴...할일없어 막쳐먹다살찌니까 쪽팔려서 헛소리하네   1,3\n",
       "63406          내가 쓴 글로 사진관 ㅈ된거는 표현의 자유! 니네 악플은 고소감! 재밌다ㅎㅎ     7\n",
       "50978                                           홍어들난리낫네 ㅋ     0"
      ]
     },
     "execution_count": 140,
     "metadata": {},
     "output_type": "execute_result"
    }
   ],
   "source": [
    "df.sample(10)"
   ]
  },
  {
   "cell_type": "code",
   "execution_count": 148,
   "metadata": {},
   "outputs": [],
   "source": [
    "df = df.drop_duplicates().reset_index(drop=True)"
   ]
  },
  {
   "cell_type": "code",
   "execution_count": 151,
   "metadata": {},
   "outputs": [
    {
     "name": "stdout",
     "output_type": "stream",
     "text": [
      "<class 'pandas.core.frame.DataFrame'>\n",
      "RangeIndex: 128369 entries, 0 to 128368\n",
      "Data columns (total 2 columns):\n",
      " #   Column    Non-Null Count   Dtype \n",
      "---  ------    --------------   ----- \n",
      " 0   document  128369 non-null  object\n",
      " 1   label     128369 non-null  object\n",
      "dtypes: object(2)\n",
      "memory usage: 2.0+ MB\n"
     ]
    }
   ],
   "source": [
    "df.info()"
   ]
  },
  {
   "cell_type": "code",
   "execution_count": 157,
   "metadata": {},
   "outputs": [],
   "source": [
    "df.to_csv('/Users/limkaram/PersonalSpace/korean-frown-sentence-classifier/data/multi-label-classification-datasets.csv', index=False)"
   ]
  },
  {
   "attachments": {},
   "cell_type": "markdown",
   "metadata": {},
   "source": [
    "## Multi-label 데이터셋 train, test, val 분할"
   ]
  },
  {
   "cell_type": "code",
   "execution_count": 16,
   "metadata": {},
   "outputs": [],
   "source": [
    "from sklearn.model_selection import train_test_split"
   ]
  },
  {
   "cell_type": "code",
   "execution_count": 38,
   "metadata": {},
   "outputs": [],
   "source": [
    "df = pd.read_csv('/Users/limkaram/PersonalSpace/korean-frown-sentence-classifier/data/multi-label-classification-datasets.csv')"
   ]
  },
  {
   "cell_type": "code",
   "execution_count": 39,
   "metadata": {},
   "outputs": [],
   "source": [
    "train_dataset = df[df.label.str.contains(',')]\n",
    "df = df.drop(train_dataset.index)"
   ]
  },
  {
   "cell_type": "code",
   "execution_count": 25,
   "metadata": {},
   "outputs": [
    {
     "data": {
      "text/plain": [
       "7    64205\n",
       "3    12998\n",
       "0     8962\n",
       "5     7804\n",
       "2     6869\n",
       "1     5362\n",
       "4     4695\n",
       "6     2971\n",
       "Name: label, dtype: int64"
      ]
     },
     "execution_count": 25,
     "metadata": {},
     "output_type": "execute_result"
    }
   ],
   "source": [
    "df.label.value_counts()"
   ]
  },
  {
   "cell_type": "code",
   "execution_count": 42,
   "metadata": {},
   "outputs": [],
   "source": [
    "X_train, X_val, y_train, y_val = train_test_split(df['document'], df['label'], test_size=0.1, random_state=1031, shuffle=True, stratify=df['label'])\n",
    "X_train, X_test, y_train, y_test = train_test_split(X_train, y_train, test_size=0.1, random_state=1031, shuffle=True, stratify=y_train)"
   ]
  },
  {
   "cell_type": "code",
   "execution_count": 43,
   "metadata": {},
   "outputs": [
    {
     "data": {
      "text/html": [
       "<div>\n",
       "<style scoped>\n",
       "    .dataframe tbody tr th:only-of-type {\n",
       "        vertical-align: middle;\n",
       "    }\n",
       "\n",
       "    .dataframe tbody tr th {\n",
       "        vertical-align: top;\n",
       "    }\n",
       "\n",
       "    .dataframe thead th {\n",
       "        text-align: right;\n",
       "    }\n",
       "</style>\n",
       "<table border=\"1\" class=\"dataframe\">\n",
       "  <thead>\n",
       "    <tr style=\"text-align: right;\">\n",
       "      <th></th>\n",
       "      <th>document</th>\n",
       "      <th>label</th>\n",
       "    </tr>\n",
       "  </thead>\n",
       "  <tbody>\n",
       "    <tr>\n",
       "      <th>2</th>\n",
       "      <td>미친돼지새끼 육갑떠네 ㅡㅡ</td>\n",
       "      <td>1,3</td>\n",
       "    </tr>\n",
       "    <tr>\n",
       "      <th>10</th>\n",
       "      <td>토착짱깨새기들 좀 꺼져라ㅋㅋ</td>\n",
       "      <td>0,3</td>\n",
       "    </tr>\n",
       "    <tr>\n",
       "      <th>31</th>\n",
       "      <td>얼마나 운동을 멀리하고 살이 뒤룩뒤룩 쪘으면 거길 앉고싶냐 게으른 숫퇘지들 ㅋㅋㅋ</td>\n",
       "      <td>1,5</td>\n",
       "    </tr>\n",
       "    <tr>\n",
       "      <th>53</th>\n",
       "      <td>한국남자들이 그렇지뭐 ㅉ 존재악</td>\n",
       "      <td>0,5</td>\n",
       "    </tr>\n",
       "    <tr>\n",
       "      <th>58</th>\n",
       "      <td>병ㅅ~ 면상도 디럽게 생겼꾼~</td>\n",
       "      <td>1,3</td>\n",
       "    </tr>\n",
       "  </tbody>\n",
       "</table>\n",
       "</div>"
      ],
      "text/plain": [
       "                                         document label\n",
       "2                                  미친돼지새끼 육갑떠네 ㅡㅡ   1,3\n",
       "10                                토착짱깨새기들 좀 꺼져라ㅋㅋ   0,3\n",
       "31  얼마나 운동을 멀리하고 살이 뒤룩뒤룩 쪘으면 거길 앉고싶냐 게으른 숫퇘지들 ㅋㅋㅋ   1,5\n",
       "53                              한국남자들이 그렇지뭐 ㅉ 존재악   0,5\n",
       "58                               병ㅅ~ 면상도 디럽게 생겼꾼~   1,3"
      ]
     },
     "execution_count": 43,
     "metadata": {},
     "output_type": "execute_result"
    }
   ],
   "source": [
    "train_dataset.head()"
   ]
  },
  {
   "cell_type": "code",
   "execution_count": 47,
   "metadata": {},
   "outputs": [],
   "source": [
    "train_dataset = pd.concat([train_dataset, pd.DataFrame({'document': X_train, 'label': y_train})])"
   ]
  },
  {
   "cell_type": "code",
   "execution_count": 48,
   "metadata": {},
   "outputs": [],
   "source": [
    "test_dataset = pd.DataFrame({'document': X_test, 'label': y_test})\n",
    "val_dataset = pd.DataFrame({'document': X_val, 'label': y_val})"
   ]
  },
  {
   "cell_type": "code",
   "execution_count": 33,
   "metadata": {},
   "outputs": [
    {
     "name": "stdout",
     "output_type": "stream",
     "text": [
      "106734\n",
      "10248\n",
      "11387\n"
     ]
    }
   ],
   "source": [
    "print(len(train_dataset))\n",
    "print(len(test_dataset))\n",
    "print(len(val_dataset))"
   ]
  },
  {
   "cell_type": "code",
   "execution_count": 55,
   "metadata": {},
   "outputs": [
    {
     "name": "stdout",
     "output_type": "stream",
     "text": [
      "(106734, 2)\n",
      "(10248, 2)\n",
      "(11387, 2)\n"
     ]
    }
   ],
   "source": [
    "print(train_dataset.shape)\n",
    "print(test_dataset.shape)\n",
    "print(val_dataset.shape)"
   ]
  },
  {
   "cell_type": "code",
   "execution_count": 58,
   "metadata": {},
   "outputs": [
    {
     "data": {
      "text/plain": [
       "['1']"
      ]
     },
     "execution_count": 58,
     "metadata": {},
     "output_type": "execute_result"
    }
   ],
   "source": [
    "'1'.split(',')"
   ]
  },
  {
   "cell_type": "code",
   "execution_count": 66,
   "metadata": {},
   "outputs": [],
   "source": [
    "test_arr = np.zeros((8, ))\n",
    "test_arr[[0, 1]] = 1"
   ]
  },
  {
   "cell_type": "code",
   "execution_count": 67,
   "metadata": {},
   "outputs": [
    {
     "data": {
      "text/plain": [
       "array([1., 1., 0., 0., 0., 0., 0., 0.])"
      ]
     },
     "execution_count": 67,
     "metadata": {},
     "output_type": "execute_result"
    }
   ],
   "source": [
    "test_arr"
   ]
  },
  {
   "cell_type": "code",
   "execution_count": 115,
   "metadata": {},
   "outputs": [
    {
     "name": "stdout",
     "output_type": "stream",
     "text": [
      "[0. 1. 0. 1. 0. 0. 0. 0.]\n",
      "[0. 1. 0. 0. 0. 1. 0. 0.]\n",
      "[0. 1. 0. 0. 0. 0. 1. 1.]\n"
     ]
    }
   ],
   "source": [
    "def one_hot_encode(x):\n",
    "    x = str(x)\n",
    "    \n",
    "    label_vector = np.zeros((8, ))\n",
    "    labels = list(map(int, x.split(',')))\n",
    "    label_vector[labels] = 1\n",
    "    \n",
    "    return label_vector\n",
    "\n",
    "print(one_hot_encode('1,3'))\n",
    "print(one_hot_encode('1,5'))\n",
    "print(one_hot_encode('1,6,7'))\n",
    "    "
   ]
  },
  {
   "cell_type": "code",
   "execution_count": 79,
   "metadata": {},
   "outputs": [],
   "source": [
    "id2label = {0: 'Origin',\n",
    "            1: 'Physical',\n",
    "            2: 'Politics',\n",
    "            3: 'Profanity',\n",
    "            4: 'Age',\n",
    "            5: 'Gender/Family',\n",
    "            6: 'Religion',\n",
    "            7: 'Not Hate Speech'\n",
    "            }"
   ]
  },
  {
   "cell_type": "code",
   "execution_count": 106,
   "metadata": {},
   "outputs": [
    {
     "data": {
      "text/plain": [
       "['Origin',\n",
       " 'Physical',\n",
       " 'Politics',\n",
       " 'Profanity',\n",
       " 'Age',\n",
       " 'Gender/Family',\n",
       " 'Religion',\n",
       " 'Not Hate Speech']"
      ]
     },
     "execution_count": 106,
     "metadata": {},
     "output_type": "execute_result"
    }
   ],
   "source": [
    "label_names = list(id2label.values())\n",
    "label_names"
   ]
  },
  {
   "cell_type": "code",
   "execution_count": 113,
   "metadata": {},
   "outputs": [],
   "source": [
    "train_dataset = pd.read_csv('/Users/limkaram/PersonalSpace/korean-frown-sentence-classifier/data/preprocess/kfsc-multi-label-classification-train.csv')\n",
    "\n",
    "for idx, row in train_dataset.iterrows():\n",
    "    one_hot_label = one_hot_encode(row['label'])\n",
    "    train_dataset.loc[idx, label_names] = one_hot_label"
   ]
  },
  {
   "cell_type": "code",
   "execution_count": 116,
   "metadata": {},
   "outputs": [],
   "source": [
    "val_dataset = pd.read_csv('/Users/limkaram/PersonalSpace/korean-frown-sentence-classifier/data/preprocess/kfsc-multi-label-classification-val.csv')\n",
    "\n",
    "for idx, row in val_dataset.iterrows():\n",
    "    one_hot_label = one_hot_encode(row['label'])\n",
    "    val_dataset.loc[idx, label_names] = one_hot_label"
   ]
  },
  {
   "cell_type": "code",
   "execution_count": 117,
   "metadata": {},
   "outputs": [],
   "source": [
    "test_dataset = pd.read_csv('/Users/limkaram/PersonalSpace/korean-frown-sentence-classifier/data/preprocess/kfsc-multi-label-classification-test.csv')\n",
    "\n",
    "for idx, row in test_dataset.iterrows():\n",
    "    one_hot_label = one_hot_encode(row['label'])\n",
    "    test_dataset.loc[idx, label_names] = one_hot_label\n",
    "    "
   ]
  },
  {
   "cell_type": "code",
   "execution_count": 118,
   "metadata": {},
   "outputs": [
    {
     "data": {
      "text/html": [
       "<div>\n",
       "<style scoped>\n",
       "    .dataframe tbody tr th:only-of-type {\n",
       "        vertical-align: middle;\n",
       "    }\n",
       "\n",
       "    .dataframe tbody tr th {\n",
       "        vertical-align: top;\n",
       "    }\n",
       "\n",
       "    .dataframe thead th {\n",
       "        text-align: right;\n",
       "    }\n",
       "</style>\n",
       "<table border=\"1\" class=\"dataframe\">\n",
       "  <thead>\n",
       "    <tr style=\"text-align: right;\">\n",
       "      <th></th>\n",
       "      <th>document</th>\n",
       "      <th>label</th>\n",
       "      <th>Origin</th>\n",
       "      <th>Physical</th>\n",
       "      <th>Politics</th>\n",
       "      <th>Profanity</th>\n",
       "      <th>Age</th>\n",
       "      <th>Gender/Family</th>\n",
       "      <th>Religion</th>\n",
       "      <th>Not Hate Speech</th>\n",
       "    </tr>\n",
       "  </thead>\n",
       "  <tbody>\n",
       "    <tr>\n",
       "      <th>4636</th>\n",
       "      <td>문재인 앞잡이 노릇하던 사람들 아닌가?</td>\n",
       "      <td>7</td>\n",
       "      <td>0.0</td>\n",
       "      <td>0.0</td>\n",
       "      <td>0.0</td>\n",
       "      <td>0.0</td>\n",
       "      <td>0.0</td>\n",
       "      <td>0.0</td>\n",
       "      <td>0.0</td>\n",
       "      <td>1.0</td>\n",
       "    </tr>\n",
       "    <tr>\n",
       "      <th>666</th>\n",
       "      <td>한마다로 대한민국내 문제인 이자석은 경제두ㅡ사상도국민의 정서도 문제인이다</td>\n",
       "      <td>0</td>\n",
       "      <td>1.0</td>\n",
       "      <td>0.0</td>\n",
       "      <td>0.0</td>\n",
       "      <td>0.0</td>\n",
       "      <td>0.0</td>\n",
       "      <td>0.0</td>\n",
       "      <td>0.0</td>\n",
       "      <td>0.0</td>\n",
       "    </tr>\n",
       "    <tr>\n",
       "      <th>2587</th>\n",
       "      <td>에휴 얼굴 알려진 연예인이라고 처벌 봐라</td>\n",
       "      <td>7</td>\n",
       "      <td>0.0</td>\n",
       "      <td>0.0</td>\n",
       "      <td>0.0</td>\n",
       "      <td>0.0</td>\n",
       "      <td>0.0</td>\n",
       "      <td>0.0</td>\n",
       "      <td>0.0</td>\n",
       "      <td>1.0</td>\n",
       "    </tr>\n",
       "    <tr>\n",
       "      <th>2228</th>\n",
       "      <td>서민정 부부 너무 재밌는데 왜 종영해요</td>\n",
       "      <td>7</td>\n",
       "      <td>0.0</td>\n",
       "      <td>0.0</td>\n",
       "      <td>0.0</td>\n",
       "      <td>0.0</td>\n",
       "      <td>0.0</td>\n",
       "      <td>0.0</td>\n",
       "      <td>0.0</td>\n",
       "      <td>1.0</td>\n",
       "    </tr>\n",
       "    <tr>\n",
       "      <th>3705</th>\n",
       "      <td>돈주고 알바 많이 풀었네 돈밖에 없는 여자가 갑질하고 싶겠지 먹고살만하면 이제 고만...</td>\n",
       "      <td>1</td>\n",
       "      <td>0.0</td>\n",
       "      <td>1.0</td>\n",
       "      <td>0.0</td>\n",
       "      <td>0.0</td>\n",
       "      <td>0.0</td>\n",
       "      <td>0.0</td>\n",
       "      <td>0.0</td>\n",
       "      <td>0.0</td>\n",
       "    </tr>\n",
       "    <tr>\n",
       "      <th>3193</th>\n",
       "      <td>난 골뱅이 될 정도로 술 먹은 여성이 더 문제라 생각하는데 ㅋ솔직히 남자입장에서 보...</td>\n",
       "      <td>7</td>\n",
       "      <td>0.0</td>\n",
       "      <td>0.0</td>\n",
       "      <td>0.0</td>\n",
       "      <td>0.0</td>\n",
       "      <td>0.0</td>\n",
       "      <td>0.0</td>\n",
       "      <td>0.0</td>\n",
       "      <td>1.0</td>\n",
       "    </tr>\n",
       "    <tr>\n",
       "      <th>3237</th>\n",
       "      <td>노르웨이 시민권 안주면 쫌...</td>\n",
       "      <td>7</td>\n",
       "      <td>0.0</td>\n",
       "      <td>0.0</td>\n",
       "      <td>0.0</td>\n",
       "      <td>0.0</td>\n",
       "      <td>0.0</td>\n",
       "      <td>0.0</td>\n",
       "      <td>0.0</td>\n",
       "      <td>1.0</td>\n",
       "    </tr>\n",
       "    <tr>\n",
       "      <th>2404</th>\n",
       "      <td>생긴건 예쁘게 생겼네</td>\n",
       "      <td>7</td>\n",
       "      <td>0.0</td>\n",
       "      <td>0.0</td>\n",
       "      <td>0.0</td>\n",
       "      <td>0.0</td>\n",
       "      <td>0.0</td>\n",
       "      <td>0.0</td>\n",
       "      <td>0.0</td>\n",
       "      <td>1.0</td>\n",
       "    </tr>\n",
       "    <tr>\n",
       "      <th>10006</th>\n",
       "      <td>쓸데없는 연예인걱정요즘은 방송중에 히트할줄알고 기본 몇억짜리 cf찍더라ㅉㅉ 서민들아...</td>\n",
       "      <td>0</td>\n",
       "      <td>1.0</td>\n",
       "      <td>0.0</td>\n",
       "      <td>0.0</td>\n",
       "      <td>0.0</td>\n",
       "      <td>0.0</td>\n",
       "      <td>0.0</td>\n",
       "      <td>0.0</td>\n",
       "      <td>0.0</td>\n",
       "    </tr>\n",
       "    <tr>\n",
       "      <th>4954</th>\n",
       "      <td>남자에겐 여러가지 의무가 부여되지만.. 여자들은 짊어지는 의무란게 없다.. 이게 나라냐!</td>\n",
       "      <td>5</td>\n",
       "      <td>0.0</td>\n",
       "      <td>0.0</td>\n",
       "      <td>0.0</td>\n",
       "      <td>0.0</td>\n",
       "      <td>0.0</td>\n",
       "      <td>1.0</td>\n",
       "      <td>0.0</td>\n",
       "      <td>0.0</td>\n",
       "    </tr>\n",
       "  </tbody>\n",
       "</table>\n",
       "</div>"
      ],
      "text/plain": [
       "                                                document  label  Origin  \\\n",
       "4636                               문재인 앞잡이 노릇하던 사람들 아닌가?      7     0.0   \n",
       "666             한마다로 대한민국내 문제인 이자석은 경제두ㅡ사상도국민의 정서도 문제인이다      0     1.0   \n",
       "2587                              에휴 얼굴 알려진 연예인이라고 처벌 봐라      7     0.0   \n",
       "2228                               서민정 부부 너무 재밌는데 왜 종영해요      7     0.0   \n",
       "3705   돈주고 알바 많이 풀었네 돈밖에 없는 여자가 갑질하고 싶겠지 먹고살만하면 이제 고만...      1     0.0   \n",
       "3193   난 골뱅이 될 정도로 술 먹은 여성이 더 문제라 생각하는데 ㅋ솔직히 남자입장에서 보...      7     0.0   \n",
       "3237                                   노르웨이 시민권 안주면 쫌...      7     0.0   \n",
       "2404                                         생긴건 예쁘게 생겼네      7     0.0   \n",
       "10006  쓸데없는 연예인걱정요즘은 방송중에 히트할줄알고 기본 몇억짜리 cf찍더라ㅉㅉ 서민들아...      0     1.0   \n",
       "4954   남자에겐 여러가지 의무가 부여되지만.. 여자들은 짊어지는 의무란게 없다.. 이게 나라냐!      5     0.0   \n",
       "\n",
       "       Physical  Politics  Profanity  Age  Gender/Family  Religion  \\\n",
       "4636        0.0       0.0        0.0  0.0            0.0       0.0   \n",
       "666         0.0       0.0        0.0  0.0            0.0       0.0   \n",
       "2587        0.0       0.0        0.0  0.0            0.0       0.0   \n",
       "2228        0.0       0.0        0.0  0.0            0.0       0.0   \n",
       "3705        1.0       0.0        0.0  0.0            0.0       0.0   \n",
       "3193        0.0       0.0        0.0  0.0            0.0       0.0   \n",
       "3237        0.0       0.0        0.0  0.0            0.0       0.0   \n",
       "2404        0.0       0.0        0.0  0.0            0.0       0.0   \n",
       "10006       0.0       0.0        0.0  0.0            0.0       0.0   \n",
       "4954        0.0       0.0        0.0  0.0            1.0       0.0   \n",
       "\n",
       "       Not Hate Speech  \n",
       "4636               1.0  \n",
       "666                0.0  \n",
       "2587               1.0  \n",
       "2228               1.0  \n",
       "3705               0.0  \n",
       "3193               1.0  \n",
       "3237               1.0  \n",
       "2404               1.0  \n",
       "10006              0.0  \n",
       "4954               0.0  "
      ]
     },
     "execution_count": 118,
     "metadata": {},
     "output_type": "execute_result"
    }
   ],
   "source": [
    "val_dataset.sample(10)"
   ]
  },
  {
   "cell_type": "code",
   "execution_count": 96,
   "metadata": {},
   "outputs": [
    {
     "data": {
      "text/html": [
       "<div>\n",
       "<style scoped>\n",
       "    .dataframe tbody tr th:only-of-type {\n",
       "        vertical-align: middle;\n",
       "    }\n",
       "\n",
       "    .dataframe tbody tr th {\n",
       "        vertical-align: top;\n",
       "    }\n",
       "\n",
       "    .dataframe thead th {\n",
       "        text-align: right;\n",
       "    }\n",
       "</style>\n",
       "<table border=\"1\" class=\"dataframe\">\n",
       "  <thead>\n",
       "    <tr style=\"text-align: right;\">\n",
       "      <th></th>\n",
       "      <th>document</th>\n",
       "      <th>label</th>\n",
       "    </tr>\n",
       "  </thead>\n",
       "  <tbody>\n",
       "    <tr>\n",
       "      <th>2</th>\n",
       "      <td>미친돼지새끼 육갑떠네 ㅡㅡ</td>\n",
       "      <td>1,3</td>\n",
       "    </tr>\n",
       "    <tr>\n",
       "      <th>10</th>\n",
       "      <td>토착짱깨새기들 좀 꺼져라ㅋㅋ</td>\n",
       "      <td>0,3</td>\n",
       "    </tr>\n",
       "    <tr>\n",
       "      <th>31</th>\n",
       "      <td>얼마나 운동을 멀리하고 살이 뒤룩뒤룩 쪘으면 거길 앉고싶냐 게으른 숫퇘지들 ㅋㅋㅋ</td>\n",
       "      <td>1,5</td>\n",
       "    </tr>\n",
       "    <tr>\n",
       "      <th>53</th>\n",
       "      <td>한국남자들이 그렇지뭐 ㅉ 존재악</td>\n",
       "      <td>0,5</td>\n",
       "    </tr>\n",
       "    <tr>\n",
       "      <th>58</th>\n",
       "      <td>병ㅅ~ 면상도 디럽게 생겼꾼~</td>\n",
       "      <td>1,3</td>\n",
       "    </tr>\n",
       "  </tbody>\n",
       "</table>\n",
       "</div>"
      ],
      "text/plain": [
       "                                         document label\n",
       "2                                  미친돼지새끼 육갑떠네 ㅡㅡ   1,3\n",
       "10                                토착짱깨새기들 좀 꺼져라ㅋㅋ   0,3\n",
       "31  얼마나 운동을 멀리하고 살이 뒤룩뒤룩 쪘으면 거길 앉고싶냐 게으른 숫퇘지들 ㅋㅋㅋ   1,5\n",
       "53                              한국남자들이 그렇지뭐 ㅉ 존재악   0,5\n",
       "58                               병ㅅ~ 면상도 디럽게 생겼꾼~   1,3"
      ]
     },
     "execution_count": 96,
     "metadata": {},
     "output_type": "execute_result"
    }
   ],
   "source": [
    "train_dataset.head()"
   ]
  },
  {
   "cell_type": "code",
   "execution_count": 71,
   "metadata": {},
   "outputs": [
    {
     "data": {
      "text/plain": [
       "array([0., 0., 0., 0., 0., 0., 0., 1.])"
      ]
     },
     "execution_count": 71,
     "metadata": {},
     "output_type": "execute_result"
    }
   ],
   "source": [
    "\n"
   ]
  },
  {
   "cell_type": "code",
   "execution_count": 119,
   "metadata": {},
   "outputs": [],
   "source": [
    "train_dataset.to_csv('/Users/limkaram/PersonalSpace/korean-frown-sentence-classifier/data/preprocess/kfsc-multi-label-classification-train.csv', index=False)\n",
    "val_dataset.to_csv('/Users/limkaram/PersonalSpace/korean-frown-sentence-classifier/data/preprocess/kfsc-multi-label-classification-val.csv', index=False)\n",
    "test_dataset.to_csv('/Users/limkaram/PersonalSpace/korean-frown-sentence-classifier/data/preprocess/kfsc-multi-label-classification-test.csv', index=False)"
   ]
  },
  {
   "cell_type": "code",
   "execution_count": null,
   "metadata": {},
   "outputs": [],
   "source": [
    "\n",
    "train_dataset = pd.DataFrame({'document': X_train, 'label': y_train})\n",
    "test_dataset = pd.DataFrame({'document': X_test, 'label': y_test})\n",
    "val_dataset = pd.DataFrame({'document': X_val, 'label': y_val})\n",
    "\n",
    "train_dataset.head()\n",
    "print(f'Train dataset 개수: {len(train_dataset)}개')\n",
    "print(f'Test dataset 개수: {len(test_dataset)}개')\n",
    "print(f'Val dataset 개수: {len(val_dataset)}개')\n",
    "train_dataset.to_csv('/Users/limkaram/PersonalSpace/frown-sentence-classifier/data/preprocess/fsc-train-v2.csv', index=False)\n",
    "test_dataset.to_csv('/Users/limkaram/PersonalSpace/frown-sentence-classifier/data/preprocess/fsc-test-v2.csv', index=False)\n",
    "val_dataset.to_csv('/Users/limkaram/PersonalSpace/frown-sentence-classifier/data/preprocess/fsc-val-v2.csv', index=False)"
   ]
  },
  {
   "cell_type": "code",
   "execution_count": 120,
   "metadata": {},
   "outputs": [
    {
     "name": "stdout",
     "output_type": "stream",
     "text": [
      "(106734, 10)\n"
     ]
    }
   ],
   "source": [
    "print(train_dataset.shape)"
   ]
  },
  {
   "cell_type": "code",
   "execution_count": 121,
   "metadata": {},
   "outputs": [
    {
     "name": "stdout",
     "output_type": "stream",
     "text": [
      "(11387, 10)\n"
     ]
    }
   ],
   "source": [
    "print(val_dataset.shape)"
   ]
  },
  {
   "cell_type": "code",
   "execution_count": 122,
   "metadata": {},
   "outputs": [
    {
     "name": "stdout",
     "output_type": "stream",
     "text": [
      "(10248, 10)\n"
     ]
    }
   ],
   "source": [
    "print(test_dataset.shape)"
   ]
  },
  {
   "cell_type": "code",
   "execution_count": 4,
   "metadata": {},
   "outputs": [],
   "source": [
    "import time\n",
    "import torch\n",
    "import pandas as pd\n",
    "import re\n",
    "import emoji\n",
    "from soynlp.normalizer import repeat_normalize\n",
    "\n",
    "\n",
    "def clean(text):\n",
    "    pattern = re.compile(f'[^ .,?!/@$%~％·∼()\\x00-\\x7Fㄱ-ㅣ가-힣]+')\n",
    "    url_pattern = re.compile(\n",
    "        r'https?:\\/\\/(www\\.)?[-a-zA-Z0-9@:%._\\+~#=]{1,256}\\.[a-zA-Z0-9()]{1,6}\\b([-a-zA-Z0-9()@:%_\\+.~#?&//=]*)')\n",
    "    text = pattern.sub(' ', text)\n",
    "    text = emoji.replace_emoji(text, replace='') #emoji 삭제\n",
    "    text = url_pattern.sub('', text)\n",
    "    text = text.strip()\n",
    "    text = repeat_normalize(text, num_repeats=2)\n",
    "    \n",
    "    return text"
   ]
  },
  {
   "cell_type": "code",
   "execution_count": 5,
   "metadata": {},
   "outputs": [
    {
     "name": "stderr",
     "output_type": "stream",
     "text": [
      "Using custom data configuration default-38182ec6604eb93b\n",
      "Found cached dataset csv (/Users/limkaram/.cache/huggingface/datasets/csv/default-38182ec6604eb93b/0.0.0/6b34fb8fcf56f7c8ba51dc895bfa2bfbe43546f190a60fcf74bb5e8afdcc2317)\n"
     ]
    },
    {
     "data": {
      "application/vnd.jupyter.widget-view+json": {
       "model_id": "862b6e54dc2041329b258b483c3cfd13",
       "version_major": 2,
       "version_minor": 0
      },
      "text/plain": [
       "  0%|          | 0/3 [00:00<?, ?it/s]"
      ]
     },
     "metadata": {},
     "output_type": "display_data"
    }
   ],
   "source": [
    "from datasets import load_dataset\n",
    "\n",
    "dataset = load_dataset(\n",
    "    \"csv\",\n",
    "    data_files={\n",
    "        \"train\": \"/Users/limkaram/PersonalSpace/korean-frown-sentence-classifier/data/preprocess/kfsc-multi-label-classification-train.csv\",\n",
    "        \"val\": \"/Users/limkaram/PersonalSpace/korean-frown-sentence-classifier/data/preprocess/kfsc-multi-label-classification-val.csv\",\n",
    "        \"test\": \"/Users/limkaram/PersonalSpace/korean-frown-sentence-classifier/data/preprocess/kfsc-multi-label-classification-test.csv\",\n",
    "    },\n",
    ")"
   ]
  },
  {
   "cell_type": "code",
   "execution_count": 6,
   "metadata": {},
   "outputs": [
    {
     "data": {
      "text/plain": [
       "DatasetDict({\n",
       "    train: Dataset({\n",
       "        features: ['document', 'label', 'Origin', 'Physical', 'Politics', 'Profanity', 'Age', 'Gender/Family', 'Religion', 'Not Hate Speech'],\n",
       "        num_rows: 106734\n",
       "    })\n",
       "    val: Dataset({\n",
       "        features: ['document', 'label', 'Origin', 'Physical', 'Politics', 'Profanity', 'Age', 'Gender/Family', 'Religion', 'Not Hate Speech'],\n",
       "        num_rows: 11387\n",
       "    })\n",
       "    test: Dataset({\n",
       "        features: ['document', 'label', 'Origin', 'Physical', 'Politics', 'Profanity', 'Age', 'Gender/Family', 'Religion', 'Not Hate Speech'],\n",
       "        num_rows: 10248\n",
       "    })\n",
       "})"
      ]
     },
     "execution_count": 6,
     "metadata": {},
     "output_type": "execute_result"
    }
   ],
   "source": [
    "dataset"
   ]
  },
  {
   "cell_type": "code",
   "execution_count": 7,
   "metadata": {},
   "outputs": [],
   "source": [
    "from transformers import AutoModelForSequenceClassification, AutoTokenizer"
   ]
  },
  {
   "cell_type": "code",
   "execution_count": 8,
   "metadata": {},
   "outputs": [],
   "source": [
    "id2label = {0: 'Origin',\n",
    "            1: 'Physical',\n",
    "            2: 'Politics',\n",
    "            3: 'Profanity',\n",
    "            4: 'Age',\n",
    "            5: 'Gender/Family',\n",
    "            6: 'Religion',\n",
    "            7: 'Not Hate Speech'\n",
    "            }\n",
    "label2id = {v: k for k, v in id2label.items()}\n",
    "labels = list(label2id.keys())"
   ]
  },
  {
   "cell_type": "code",
   "execution_count": 34,
   "metadata": {},
   "outputs": [],
   "source": [
    "tokenizer = AutoTokenizer.from_pretrained('beomi/KcELECTRA-base-v2022')\n",
    "\n",
    "def preprocess_data(examples):\n",
    "  # take a batch of texts\n",
    "  sentences = [clean(sentence) for sentence in examples['document']]\n",
    "  # encode them\n",
    "  encoding = tokenizer(sentences, padding=\"max_length\", truncation=True, max_length=512)\n",
    "  # add labels\n",
    "  labels_batch = {k: examples[k] for k in examples.keys() if k in labels}\n",
    "  # create numpy array of shape (batch_size, num_labels)\n",
    "  labels_matrix = np.zeros((len(sentences), len(labels)))\n",
    "  # fill numpy array\n",
    "  for idx, label in enumerate(labels):\n",
    "    labels_matrix[:, idx] = labels_batch[label]\n",
    "\n",
    "  encoding[\"labels\"] = labels_matrix.tolist()\n",
    "  \n",
    "  return encoding"
   ]
  },
  {
   "cell_type": "code",
   "execution_count": 36,
   "metadata": {},
   "outputs": [
    {
     "data": {
      "application/vnd.jupyter.widget-view+json": {
       "model_id": "0106cc588cc94609a953c1fd74833878",
       "version_major": 2,
       "version_minor": 0
      },
      "text/plain": [
       "  0%|          | 0/107 [00:00<?, ?ba/s]"
      ]
     },
     "metadata": {},
     "output_type": "display_data"
    },
    {
     "data": {
      "application/vnd.jupyter.widget-view+json": {
       "model_id": "8ac07527566140318c6ab81bff4dc3f4",
       "version_major": 2,
       "version_minor": 0
      },
      "text/plain": [
       "  0%|          | 0/12 [00:00<?, ?ba/s]"
      ]
     },
     "metadata": {},
     "output_type": "display_data"
    },
    {
     "data": {
      "application/vnd.jupyter.widget-view+json": {
       "model_id": "15b75d0348a5446889232b4faf11e533",
       "version_major": 2,
       "version_minor": 0
      },
      "text/plain": [
       "  0%|          | 0/11 [00:00<?, ?ba/s]"
      ]
     },
     "metadata": {},
     "output_type": "display_data"
    }
   ],
   "source": [
    "encoded_dataset = dataset.map(preprocess_data, batched=True, remove_columns=dataset['train'].column_names)"
   ]
  },
  {
   "cell_type": "code",
   "execution_count": 37,
   "metadata": {},
   "outputs": [
    {
     "data": {
      "text/plain": [
       "DatasetDict({\n",
       "    train: Dataset({\n",
       "        features: ['input_ids', 'token_type_ids', 'attention_mask', 'labels'],\n",
       "        num_rows: 106734\n",
       "    })\n",
       "    val: Dataset({\n",
       "        features: ['input_ids', 'token_type_ids', 'attention_mask', 'labels'],\n",
       "        num_rows: 11387\n",
       "    })\n",
       "    test: Dataset({\n",
       "        features: ['input_ids', 'token_type_ids', 'attention_mask', 'labels'],\n",
       "        num_rows: 10248\n",
       "    })\n",
       "})"
      ]
     },
     "execution_count": 37,
     "metadata": {},
     "output_type": "execute_result"
    }
   ],
   "source": [
    "encoded_dataset"
   ]
  },
  {
   "cell_type": "code",
   "execution_count": 38,
   "metadata": {},
   "outputs": [],
   "source": [
    "encoded_dataset.set_format(\"torch\")"
   ]
  },
  {
   "cell_type": "code",
   "execution_count": null,
   "metadata": {},
   "outputs": [],
   "source": [
    "from transformers import AutoModelForSequenceClassification\n",
    "\n",
    "model = AutoModelForSequenceClassification.from_pretrained(\"bert-base-uncased\", \n",
    "                                                           problem_type=\"multi_label_classification\", \n",
    "                                                           num_labels=len(labels),\n",
    "                                                           id2label=id2label,\n",
    "                                                           label2id=label2id)"
   ]
  }
 ],
 "metadata": {
  "kernelspec": {
   "display_name": "kfsc",
   "language": "python",
   "name": "kfsc"
  },
  "language_info": {
   "codemirror_mode": {
    "name": "ipython",
    "version": 3
   },
   "file_extension": ".py",
   "mimetype": "text/x-python",
   "name": "python",
   "nbconvert_exporter": "python",
   "pygments_lexer": "ipython3",
   "version": "3.8.15"
  },
  "vscode": {
   "interpreter": {
    "hash": "31f2aee4e71d21fbe5cf8b01ff0e069b9275f58929596ceb00d14d90e3e16cd6"
   }
  }
 },
 "nbformat": 4,
 "nbformat_minor": 2
}
